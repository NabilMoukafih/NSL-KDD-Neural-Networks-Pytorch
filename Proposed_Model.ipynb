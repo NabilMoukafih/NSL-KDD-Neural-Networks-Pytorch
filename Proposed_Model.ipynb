{
  "nbformat": 4,
  "nbformat_minor": 0,
  "metadata": {
    "kernelspec": {
      "name": "python3",
      "display_name": "Python 3"
    },
    "language_info": {
      "codemirror_mode": {
        "name": "ipython",
        "version": 3
      },
      "file_extension": ".py",
      "mimetype": "text/x-python",
      "name": "python",
      "nbconvert_exporter": "python",
      "pygments_lexer": "ipython3",
      "version": "3.7.3"
    },
    "colab": {
      "name": "Proposed Model.ipynb",
      "provenance": [],
      "collapsed_sections": [],
      "include_colab_link": true
    },
    "accelerator": "GPU"
  },
  "cells": [
    {
      "cell_type": "markdown",
      "metadata": {
        "id": "view-in-github",
        "colab_type": "text"
      },
      "source": []
    },
    {
      "cell_type": "markdown",
      "metadata": {
        "id": "fwMuHtjbqbjd",
        "colab_type": "text"
      },
      "source": [
        "# Voting System using NSL-KDDD dataset for SIEM/IDS systems\n",
        "\n",
        "It's a system that combines three indepedant neural networks and fuses their output according to a voting system which follows the majority-rules process!\n",
        "\n",
        "## Preparing Environement"
      ]
    },
    {
      "cell_type": "code",
      "metadata": {
        "id": "UGe9xjCuqbji",
        "colab_type": "code",
        "colab": {}
      },
      "source": [
        "import numpy as np\n",
        "import pandas as pd\n",
        "\n",
        "## label encoder\n",
        "from sklearn.preprocessing import LabelEncoder\n",
        "\n",
        "## for plotting\n",
        "import matplotlib.pyplot as plt"
      ],
      "execution_count": null,
      "outputs": []
    },
    {
      "cell_type": "markdown",
      "metadata": {
        "id": "B5W0N1Wkqbjv",
        "colab_type": "text"
      },
      "source": [
        "Next, we will load the different of the dataset and the indices of the nominal and numerical features in the training/test set."
      ]
    },
    {
      "cell_type": "code",
      "metadata": {
        "id": "zvPW1s1Fqbjy",
        "colab_type": "code",
        "colab": {}
      },
      "source": [
        "train_nsl_kdd_dataset_path = \"/content/drive/My Drive/Colab Notebooks/NSL_KDD_Dataset/KDDTrain+.txt\"\n",
        "test_nsl_kdd_dataset_path = \"/content/drive/My Drive/Colab Notebooks/NSL_KDD_Dataset/KDDTest+.txt\"\n",
        "\n",
        "col_names = np.array([\"duration\",\"protocol_type\",\"service\",\"flag\",\"src_bytes\",\n",
        "    \"dst_bytes\",\"land\",\"wrong_fragment\",\"urgent\",\"hot\",\"num_failed_logins\",\n",
        "    \"logged_in\",\"num_compromised\",\"root_shell\",\"su_attempted\",\"num_root\",\n",
        "    \"num_file_creations\",\"num_shells\",\"num_access_files\",\"num_outbound_cmds\",\n",
        "    \"is_host_login\",\"is_guest_login\",\"count\",\"srv_count\",\"serror_rate\",\n",
        "    \"srv_serror_rate\",\"rerror_rate\",\"srv_rerror_rate\",\"same_srv_rate\",\n",
        "    \"diff_srv_rate\",\"srv_diff_host_rate\",\"dst_host_count\",\"dst_host_srv_count\",\n",
        "    \"dst_host_same_srv_rate\",\"dst_host_diff_srv_rate\",\"dst_host_same_src_port_rate\",\n",
        "    \"dst_host_srv_diff_host_rate\",\"dst_host_serror_rate\",\"dst_host_srv_serror_rate\",\n",
        "    \"dst_host_rerror_rate\",\"dst_host_srv_rerror_rate\",\"labels\"])\n",
        "\n",
        "nominal_inx = [1, 2, 3]\n",
        "binary_inx = [6, 11, 13, 14, 20, 21]\n",
        "numeric_inx = list(set(range(41)).difference(nominal_inx).difference(binary_inx))\n",
        "\n",
        "nominal_cols = col_names[nominal_inx].tolist()\n",
        "binary_cols = col_names[binary_inx].tolist()\n",
        "numeric_cols = col_names[numeric_inx].tolist()\n"
      ],
      "execution_count": null,
      "outputs": []
    },
    {
      "cell_type": "markdown",
      "metadata": {
        "id": "CkP3Peusqbj6",
        "colab_type": "text"
      },
      "source": [
        "Whether we will be using binary classification or multi-class classification, we will need a a dictionnary that will map the output"
      ]
    },
    {
      "cell_type": "code",
      "metadata": {
        "id": "TYv_s75Xqbj8",
        "colab_type": "code",
        "colab": {}
      },
      "source": [
        "# Dictionary that contains mapping of various attacks to the four main categories\n",
        "attack_dict = {\n",
        "    'normal': 'normal',\n",
        "\n",
        "    'back': 'DoS',\n",
        "    'land': 'DoS',\n",
        "    'neptune': 'DoS',\n",
        "    'pod': 'DoS',\n",
        "    'smurf': 'DoS',\n",
        "    'teardrop': 'DoS',\n",
        "    'mailbomb': 'DoS',\n",
        "    'apache2': 'DoS',\n",
        "    'processtable': 'DoS',\n",
        "    'udpstorm': 'DoS',\n",
        "\n",
        "    'ipsweep': 'Probe',\n",
        "    'nmap': 'Probe',\n",
        "    'portsweep': 'Probe',\n",
        "    'satan': 'Probe',\n",
        "    'mscan': 'Probe',\n",
        "    'saint': 'Probe',\n",
        "\n",
        "    'ftp_write': 'R2L',\n",
        "    'guess_passwd': 'R2L',\n",
        "    'imap': 'R2L',\n",
        "    'multihop': 'R2L',\n",
        "    'phf': 'R2L',\n",
        "    'spy': 'R2L',\n",
        "    'warezclient': 'R2L',\n",
        "    'warezmaster': 'R2L',\n",
        "    'sendmail': 'R2L',\n",
        "    'named': 'R2L',\n",
        "    'snmpgetattack': 'R2L',\n",
        "    'snmpguess': 'R2L',\n",
        "    'xlock': 'R2L',\n",
        "    'xsnoop': 'R2L',\n",
        "    'worm': 'R2L',\n",
        "\n",
        "    'buffer_overflow': 'U2R',\n",
        "    'loadmodule': 'U2R',\n",
        "    'perl': 'U2R',\n",
        "    'rootkit': 'U2R',\n",
        "    'httptunnel': 'U2R',\n",
        "    'ps': 'U2R',\n",
        "    'sqlattack': 'U2R',\n",
        "    'xterm': 'U2R'\n",
        "}\n"
      ],
      "execution_count": null,
      "outputs": []
    },
    {
      "cell_type": "markdown",
      "metadata": {
        "id": "JVrYCrqeqbkE",
        "colab_type": "text"
      },
      "source": [
        "## Data manipulation"
      ]
    },
    {
      "cell_type": "code",
      "metadata": {
        "id": "Hy4B2u4eqbkG",
        "colab_type": "code",
        "colab": {
          "base_uri": "https://localhost:8080/",
          "height": 70
        },
        "outputId": "d3f8ef88-5658-4e5e-8d78-074a5d2ac081"
      },
      "source": [
        "import torch\n",
        "import torch.utils.data\n",
        "cols = list(range(0, 42))\n",
        "train = pd.read_csv(train_nsl_kdd_dataset_path, sep=\",\", names = col_names, usecols = cols)\n",
        "test = pd.read_csv(test_nsl_kdd_dataset_path, sep=\",\", names = col_names, usecols = cols)\n",
        "\n",
        "# Splitting Data into train and validation (80% Training and 20% Validation)\n",
        "train_size = int(0.8 * len(train))\n",
        "validation_size = len(train) - train_size\n",
        "Training_Set, Validation_Set = torch.utils.data.random_split(train, [train_size, validation_size])\n",
        "\n",
        "# Train data\n",
        "Y_train  = pd.DataFrame(Training_Set.dataset.iloc[Training_Set.indices]['labels'])\n",
        "X_train = Training_Set.dataset.iloc[Training_Set.indices].drop(columns=\"labels\")\n",
        "\n",
        "# Validation data\n",
        "Y_val  = pd.DataFrame(Validation_Set.dataset.iloc[Validation_Set.indices]['labels'])\n",
        "X_val = Validation_Set.dataset.iloc[Validation_Set.indices].drop(columns=\"labels\")\n",
        "\n",
        "# Test data\n",
        "Y_test  = pd.DataFrame(test['labels'])\n",
        "X_test = test.drop(columns=\"labels\")\n",
        "\n",
        "print(\"Shape of X_train is \", X_train.shape, \"shape of target\", Y_train.shape)\n",
        "print(\"Shape of X_val is \", X_val.shape, \"shape of target\", Y_val.shape)\n",
        "print(\"Shape of X_test is \", X_test.shape, \"shape of target\", Y_test.shape)"
      ],
      "execution_count": null,
      "outputs": [
        {
          "output_type": "stream",
          "text": [
            "Shape of X_train is  (100778, 41) shape of target (100778, 1)\n",
            "Shape of X_val is  (25195, 41) shape of target (25195, 1)\n",
            "Shape of X_test is  (22544, 41) shape of target (22544, 1)\n"
          ],
          "name": "stdout"
        }
      ]
    },
    {
      "cell_type": "code",
      "metadata": {
        "id": "6zZontBMqbkP",
        "colab_type": "code",
        "colab": {
          "base_uri": "https://localhost:8080/",
          "height": 226
        },
        "outputId": "08bf9b8d-8026-4d37-d617-703345d0d328"
      },
      "source": [
        "X_train.head()"
      ],
      "execution_count": null,
      "outputs": [
        {
          "output_type": "execute_result",
          "data": {
            "text/html": [
              "<div>\n",
              "<style scoped>\n",
              "    .dataframe tbody tr th:only-of-type {\n",
              "        vertical-align: middle;\n",
              "    }\n",
              "\n",
              "    .dataframe tbody tr th {\n",
              "        vertical-align: top;\n",
              "    }\n",
              "\n",
              "    .dataframe thead th {\n",
              "        text-align: right;\n",
              "    }\n",
              "</style>\n",
              "<table border=\"1\" class=\"dataframe\">\n",
              "  <thead>\n",
              "    <tr style=\"text-align: right;\">\n",
              "      <th></th>\n",
              "      <th>duration</th>\n",
              "      <th>protocol_type</th>\n",
              "      <th>service</th>\n",
              "      <th>flag</th>\n",
              "      <th>src_bytes</th>\n",
              "      <th>dst_bytes</th>\n",
              "      <th>land</th>\n",
              "      <th>wrong_fragment</th>\n",
              "      <th>urgent</th>\n",
              "      <th>hot</th>\n",
              "      <th>num_failed_logins</th>\n",
              "      <th>logged_in</th>\n",
              "      <th>num_compromised</th>\n",
              "      <th>root_shell</th>\n",
              "      <th>su_attempted</th>\n",
              "      <th>num_root</th>\n",
              "      <th>num_file_creations</th>\n",
              "      <th>num_shells</th>\n",
              "      <th>num_access_files</th>\n",
              "      <th>num_outbound_cmds</th>\n",
              "      <th>is_host_login</th>\n",
              "      <th>is_guest_login</th>\n",
              "      <th>count</th>\n",
              "      <th>srv_count</th>\n",
              "      <th>serror_rate</th>\n",
              "      <th>srv_serror_rate</th>\n",
              "      <th>rerror_rate</th>\n",
              "      <th>srv_rerror_rate</th>\n",
              "      <th>same_srv_rate</th>\n",
              "      <th>diff_srv_rate</th>\n",
              "      <th>srv_diff_host_rate</th>\n",
              "      <th>dst_host_count</th>\n",
              "      <th>dst_host_srv_count</th>\n",
              "      <th>dst_host_same_srv_rate</th>\n",
              "      <th>dst_host_diff_srv_rate</th>\n",
              "      <th>dst_host_same_src_port_rate</th>\n",
              "      <th>dst_host_srv_diff_host_rate</th>\n",
              "      <th>dst_host_serror_rate</th>\n",
              "      <th>dst_host_srv_serror_rate</th>\n",
              "      <th>dst_host_rerror_rate</th>\n",
              "      <th>dst_host_srv_rerror_rate</th>\n",
              "    </tr>\n",
              "  </thead>\n",
              "  <tbody>\n",
              "    <tr>\n",
              "      <th>105385</th>\n",
              "      <td>0</td>\n",
              "      <td>tcp</td>\n",
              "      <td>http</td>\n",
              "      <td>SF</td>\n",
              "      <td>295</td>\n",
              "      <td>1215</td>\n",
              "      <td>0</td>\n",
              "      <td>0</td>\n",
              "      <td>0</td>\n",
              "      <td>0</td>\n",
              "      <td>0</td>\n",
              "      <td>1</td>\n",
              "      <td>0</td>\n",
              "      <td>0</td>\n",
              "      <td>0</td>\n",
              "      <td>0</td>\n",
              "      <td>0</td>\n",
              "      <td>0</td>\n",
              "      <td>0</td>\n",
              "      <td>0</td>\n",
              "      <td>0</td>\n",
              "      <td>0</td>\n",
              "      <td>14</td>\n",
              "      <td>16</td>\n",
              "      <td>0.0</td>\n",
              "      <td>0.0</td>\n",
              "      <td>0.0</td>\n",
              "      <td>0.0</td>\n",
              "      <td>1.0</td>\n",
              "      <td>0.0</td>\n",
              "      <td>0.12</td>\n",
              "      <td>162</td>\n",
              "      <td>255</td>\n",
              "      <td>1.00</td>\n",
              "      <td>0.00</td>\n",
              "      <td>0.01</td>\n",
              "      <td>0.01</td>\n",
              "      <td>0.00</td>\n",
              "      <td>0.0</td>\n",
              "      <td>0.00</td>\n",
              "      <td>0.0</td>\n",
              "    </tr>\n",
              "    <tr>\n",
              "      <th>83300</th>\n",
              "      <td>0</td>\n",
              "      <td>tcp</td>\n",
              "      <td>ftp_data</td>\n",
              "      <td>SF</td>\n",
              "      <td>1109</td>\n",
              "      <td>0</td>\n",
              "      <td>0</td>\n",
              "      <td>0</td>\n",
              "      <td>0</td>\n",
              "      <td>0</td>\n",
              "      <td>0</td>\n",
              "      <td>1</td>\n",
              "      <td>0</td>\n",
              "      <td>0</td>\n",
              "      <td>0</td>\n",
              "      <td>0</td>\n",
              "      <td>0</td>\n",
              "      <td>0</td>\n",
              "      <td>0</td>\n",
              "      <td>0</td>\n",
              "      <td>0</td>\n",
              "      <td>0</td>\n",
              "      <td>1</td>\n",
              "      <td>1</td>\n",
              "      <td>0.0</td>\n",
              "      <td>0.0</td>\n",
              "      <td>0.0</td>\n",
              "      <td>0.0</td>\n",
              "      <td>1.0</td>\n",
              "      <td>0.0</td>\n",
              "      <td>0.00</td>\n",
              "      <td>160</td>\n",
              "      <td>58</td>\n",
              "      <td>0.19</td>\n",
              "      <td>0.03</td>\n",
              "      <td>0.19</td>\n",
              "      <td>0.03</td>\n",
              "      <td>0.00</td>\n",
              "      <td>0.0</td>\n",
              "      <td>0.00</td>\n",
              "      <td>0.0</td>\n",
              "    </tr>\n",
              "    <tr>\n",
              "      <th>113207</th>\n",
              "      <td>0</td>\n",
              "      <td>icmp</td>\n",
              "      <td>ecr_i</td>\n",
              "      <td>SF</td>\n",
              "      <td>1032</td>\n",
              "      <td>0</td>\n",
              "      <td>0</td>\n",
              "      <td>0</td>\n",
              "      <td>0</td>\n",
              "      <td>0</td>\n",
              "      <td>0</td>\n",
              "      <td>0</td>\n",
              "      <td>0</td>\n",
              "      <td>0</td>\n",
              "      <td>0</td>\n",
              "      <td>0</td>\n",
              "      <td>0</td>\n",
              "      <td>0</td>\n",
              "      <td>0</td>\n",
              "      <td>0</td>\n",
              "      <td>0</td>\n",
              "      <td>0</td>\n",
              "      <td>228</td>\n",
              "      <td>228</td>\n",
              "      <td>0.0</td>\n",
              "      <td>0.0</td>\n",
              "      <td>0.0</td>\n",
              "      <td>0.0</td>\n",
              "      <td>1.0</td>\n",
              "      <td>0.0</td>\n",
              "      <td>0.00</td>\n",
              "      <td>255</td>\n",
              "      <td>209</td>\n",
              "      <td>0.82</td>\n",
              "      <td>0.02</td>\n",
              "      <td>0.82</td>\n",
              "      <td>0.00</td>\n",
              "      <td>0.00</td>\n",
              "      <td>0.0</td>\n",
              "      <td>0.12</td>\n",
              "      <td>0.0</td>\n",
              "    </tr>\n",
              "    <tr>\n",
              "      <th>33036</th>\n",
              "      <td>0</td>\n",
              "      <td>udp</td>\n",
              "      <td>domain_u</td>\n",
              "      <td>SF</td>\n",
              "      <td>55</td>\n",
              "      <td>108</td>\n",
              "      <td>0</td>\n",
              "      <td>0</td>\n",
              "      <td>0</td>\n",
              "      <td>0</td>\n",
              "      <td>0</td>\n",
              "      <td>0</td>\n",
              "      <td>0</td>\n",
              "      <td>0</td>\n",
              "      <td>0</td>\n",
              "      <td>0</td>\n",
              "      <td>0</td>\n",
              "      <td>0</td>\n",
              "      <td>0</td>\n",
              "      <td>0</td>\n",
              "      <td>0</td>\n",
              "      <td>0</td>\n",
              "      <td>2</td>\n",
              "      <td>2</td>\n",
              "      <td>0.0</td>\n",
              "      <td>0.0</td>\n",
              "      <td>0.0</td>\n",
              "      <td>0.0</td>\n",
              "      <td>1.0</td>\n",
              "      <td>0.0</td>\n",
              "      <td>0.00</td>\n",
              "      <td>64</td>\n",
              "      <td>81</td>\n",
              "      <td>0.72</td>\n",
              "      <td>0.03</td>\n",
              "      <td>0.72</td>\n",
              "      <td>0.02</td>\n",
              "      <td>0.02</td>\n",
              "      <td>0.0</td>\n",
              "      <td>0.22</td>\n",
              "      <td>0.0</td>\n",
              "    </tr>\n",
              "    <tr>\n",
              "      <th>31107</th>\n",
              "      <td>0</td>\n",
              "      <td>udp</td>\n",
              "      <td>private</td>\n",
              "      <td>SF</td>\n",
              "      <td>28</td>\n",
              "      <td>0</td>\n",
              "      <td>0</td>\n",
              "      <td>3</td>\n",
              "      <td>0</td>\n",
              "      <td>0</td>\n",
              "      <td>0</td>\n",
              "      <td>0</td>\n",
              "      <td>0</td>\n",
              "      <td>0</td>\n",
              "      <td>0</td>\n",
              "      <td>0</td>\n",
              "      <td>0</td>\n",
              "      <td>0</td>\n",
              "      <td>0</td>\n",
              "      <td>0</td>\n",
              "      <td>0</td>\n",
              "      <td>0</td>\n",
              "      <td>80</td>\n",
              "      <td>80</td>\n",
              "      <td>0.0</td>\n",
              "      <td>0.0</td>\n",
              "      <td>0.0</td>\n",
              "      <td>0.0</td>\n",
              "      <td>1.0</td>\n",
              "      <td>0.0</td>\n",
              "      <td>0.00</td>\n",
              "      <td>152</td>\n",
              "      <td>80</td>\n",
              "      <td>0.53</td>\n",
              "      <td>0.03</td>\n",
              "      <td>0.53</td>\n",
              "      <td>0.00</td>\n",
              "      <td>0.00</td>\n",
              "      <td>0.0</td>\n",
              "      <td>0.00</td>\n",
              "      <td>0.0</td>\n",
              "    </tr>\n",
              "  </tbody>\n",
              "</table>\n",
              "</div>"
            ],
            "text/plain": [
              "        duration protocol_type  ... dst_host_rerror_rate dst_host_srv_rerror_rate\n",
              "105385         0           tcp  ...                 0.00                      0.0\n",
              "83300          0           tcp  ...                 0.00                      0.0\n",
              "113207         0          icmp  ...                 0.12                      0.0\n",
              "33036          0           udp  ...                 0.22                      0.0\n",
              "31107          0           udp  ...                 0.00                      0.0\n",
              "\n",
              "[5 rows x 41 columns]"
            ]
          },
          "metadata": {
            "tags": []
          },
          "execution_count": 5
        }
      ]
    },
    {
      "cell_type": "code",
      "metadata": {
        "id": "3cfPYDveqbkV",
        "colab_type": "code",
        "colab": {
          "base_uri": "https://localhost:8080/",
          "height": 230
        },
        "outputId": "8a922ee9-e9a9-4ff7-d828-75951a2f3497"
      },
      "source": [
        "X_train['flag'].value_counts()"
      ],
      "execution_count": null,
      "outputs": [
        {
          "output_type": "execute_result",
          "data": {
            "text/plain": [
              "SF        59950\n",
              "S0        27846\n",
              "REJ        9029\n",
              "RSTR       1924\n",
              "RSTO       1258\n",
              "S1          292\n",
              "SH          219\n",
              "S2          101\n",
              "RSTOS0       80\n",
              "S3           40\n",
              "OTH          39\n",
              "Name: flag, dtype: int64"
            ]
          },
          "metadata": {
            "tags": []
          },
          "execution_count": 6
        }
      ]
    },
    {
      "cell_type": "markdown",
      "metadata": {
        "id": "rU8MTs2Nqbka",
        "colab_type": "text"
      },
      "source": [
        "Now, we will create to types of fata for Binary classification and Multi-class classification"
      ]
    },
    {
      "cell_type": "code",
      "metadata": {
        "id": "KrGcO5Npqbke",
        "colab_type": "code",
        "colab": {}
      },
      "source": [
        "# 5 Classes dataset\n",
        "\n",
        "Y_train5 = Y_train.copy()\n",
        "Y_train5['labels'] = Y_train5['labels'].map(attack_dict)\n",
        "\n",
        "Y_val5 = Y_val.copy()\n",
        "Y_val5['labels'] = Y_val5['labels'].map(attack_dict)\n",
        "\n",
        "Y_test5 = Y_test.copy()\n",
        "Y_test5['labels'] = Y_test5['labels'].map(attack_dict)"
      ],
      "execution_count": null,
      "outputs": []
    },
    {
      "cell_type": "code",
      "metadata": {
        "id": "q28zyoZjqbkj",
        "colab_type": "code",
        "colab": {
          "base_uri": "https://localhost:8080/",
          "height": 206
        },
        "outputId": "e13250a8-a9dc-4b32-e2f9-b5d6ed16ace5"
      },
      "source": [
        "Y_test5.head()"
      ],
      "execution_count": null,
      "outputs": [
        {
          "output_type": "execute_result",
          "data": {
            "text/html": [
              "<div>\n",
              "<style scoped>\n",
              "    .dataframe tbody tr th:only-of-type {\n",
              "        vertical-align: middle;\n",
              "    }\n",
              "\n",
              "    .dataframe tbody tr th {\n",
              "        vertical-align: top;\n",
              "    }\n",
              "\n",
              "    .dataframe thead th {\n",
              "        text-align: right;\n",
              "    }\n",
              "</style>\n",
              "<table border=\"1\" class=\"dataframe\">\n",
              "  <thead>\n",
              "    <tr style=\"text-align: right;\">\n",
              "      <th></th>\n",
              "      <th>labels</th>\n",
              "    </tr>\n",
              "  </thead>\n",
              "  <tbody>\n",
              "    <tr>\n",
              "      <th>0</th>\n",
              "      <td>DoS</td>\n",
              "    </tr>\n",
              "    <tr>\n",
              "      <th>1</th>\n",
              "      <td>DoS</td>\n",
              "    </tr>\n",
              "    <tr>\n",
              "      <th>2</th>\n",
              "      <td>normal</td>\n",
              "    </tr>\n",
              "    <tr>\n",
              "      <th>3</th>\n",
              "      <td>Probe</td>\n",
              "    </tr>\n",
              "    <tr>\n",
              "      <th>4</th>\n",
              "      <td>Probe</td>\n",
              "    </tr>\n",
              "  </tbody>\n",
              "</table>\n",
              "</div>"
            ],
            "text/plain": [
              "   labels\n",
              "0     DoS\n",
              "1     DoS\n",
              "2  normal\n",
              "3   Probe\n",
              "4   Probe"
            ]
          },
          "metadata": {
            "tags": []
          },
          "execution_count": 8
        }
      ]
    },
    {
      "cell_type": "code",
      "metadata": {
        "id": "1_2DOty0qbkp",
        "colab_type": "code",
        "colab": {}
      },
      "source": [
        "# 2 Classes dataset\n",
        "\n",
        "import re\n",
        "\n",
        "Y_train2 = Y_train.copy()\n",
        "Y_train2['labels'] = Y_train2['labels'].map({v : re.sub('^(?!normal).*$', 'attack', k) for  v, k in attack_dict.items()})\n",
        "\n",
        "Y_val2 = Y_val.copy()\n",
        "Y_val2['labels'] = Y_val2['labels'].map({v : re.sub('^(?!normal).*$', 'attack', k) for  v, k in attack_dict.items()})\n",
        "\n",
        "Y_test2 = Y_test.copy()\n",
        "Y_test2['labels'] = Y_test2['labels'].map({v : re.sub('^(?!normal).*$', 'attack', k) for  v, k in attack_dict.items()})"
      ],
      "execution_count": null,
      "outputs": []
    },
    {
      "cell_type": "code",
      "metadata": {
        "id": "qaIs2uaCqbkw",
        "colab_type": "code",
        "colab": {
          "base_uri": "https://localhost:8080/",
          "height": 206
        },
        "outputId": "296509dd-cdb1-4741-cb7c-a990be9f1d8a"
      },
      "source": [
        "Y_test2.head()"
      ],
      "execution_count": null,
      "outputs": [
        {
          "output_type": "execute_result",
          "data": {
            "text/html": [
              "<div>\n",
              "<style scoped>\n",
              "    .dataframe tbody tr th:only-of-type {\n",
              "        vertical-align: middle;\n",
              "    }\n",
              "\n",
              "    .dataframe tbody tr th {\n",
              "        vertical-align: top;\n",
              "    }\n",
              "\n",
              "    .dataframe thead th {\n",
              "        text-align: right;\n",
              "    }\n",
              "</style>\n",
              "<table border=\"1\" class=\"dataframe\">\n",
              "  <thead>\n",
              "    <tr style=\"text-align: right;\">\n",
              "      <th></th>\n",
              "      <th>labels</th>\n",
              "    </tr>\n",
              "  </thead>\n",
              "  <tbody>\n",
              "    <tr>\n",
              "      <th>0</th>\n",
              "      <td>attack</td>\n",
              "    </tr>\n",
              "    <tr>\n",
              "      <th>1</th>\n",
              "      <td>attack</td>\n",
              "    </tr>\n",
              "    <tr>\n",
              "      <th>2</th>\n",
              "      <td>normal</td>\n",
              "    </tr>\n",
              "    <tr>\n",
              "      <th>3</th>\n",
              "      <td>attack</td>\n",
              "    </tr>\n",
              "    <tr>\n",
              "      <th>4</th>\n",
              "      <td>attack</td>\n",
              "    </tr>\n",
              "  </tbody>\n",
              "</table>\n",
              "</div>"
            ],
            "text/plain": [
              "   labels\n",
              "0  attack\n",
              "1  attack\n",
              "2  normal\n",
              "3  attack\n",
              "4  attack"
            ]
          },
          "metadata": {
            "tags": []
          },
          "execution_count": 10
        }
      ]
    },
    {
      "cell_type": "code",
      "metadata": {
        "id": "FxnfH2ahqbk1",
        "colab_type": "code",
        "colab": {
          "base_uri": "https://localhost:8080/",
          "height": 70
        },
        "outputId": "08168976-8275-41c9-9aa2-c005005da272"
      },
      "source": [
        "#Y_train5['labels'].value_counts()\n",
        "#Y_test5['labels'].value_counts()\n",
        "\n",
        "#Y_train2['labels'].value_counts()\n",
        "Y_test2['labels'].value_counts()"
      ],
      "execution_count": null,
      "outputs": [
        {
          "output_type": "execute_result",
          "data": {
            "text/plain": [
              "attack    12833\n",
              "normal     9711\n",
              "Name: labels, dtype: int64"
            ]
          },
          "metadata": {
            "tags": []
          },
          "execution_count": 11
        }
      ]
    },
    {
      "cell_type": "markdown",
      "metadata": {
        "id": "eNH1wUpOqbk7",
        "colab_type": "text"
      },
      "source": [
        "## Feature Selection & Feature Encoding & Normalization\n",
        "\n",
        "First we will remove the features removed in some article"
      ]
    },
    {
      "cell_type": "code",
      "metadata": {
        "id": "dpM-bFPIqbk9",
        "colab_type": "code",
        "colab": {}
      },
      "source": [
        "X_train_copy = X_train.copy()\n",
        "X_val_copy = X_val.copy()\n",
        "X_test_copy = X_test.copy()"
      ],
      "execution_count": null,
      "outputs": []
    },
    {
      "cell_type": "code",
      "metadata": {
        "id": "m0T0Fuu_qblC",
        "colab_type": "code",
        "colab": {
          "base_uri": "https://localhost:8080/",
          "height": 53
        },
        "outputId": "033ff1e7-33d3-4aac-d368-b056c961efff"
      },
      "source": [
        "#index_keep = [2, 4, 5, 11, 22, 23, 24, 27, 30, 31, 32, 34]\n",
        "\n",
        "#remove_indices = []\n",
        "#for x in range(40):\n",
        "#  if (x not in index_keep):\n",
        "#    remove_indices.append(x)\n",
        "remove_indices = [7, 8, 9, 11, 14, 15, 17, 19, 20, 21, 32, 40]\n",
        "print(\"Indices to remove: \", remove_indices)\n",
        "\n",
        "cols_to_remove = col_names[remove_indices].tolist()\n",
        "\n",
        "X_train_remove = X_train_copy.drop(columns = cols_to_remove)\n",
        "X_val_remove = X_val_copy.drop(columns = cols_to_remove)\n",
        "X_test_remove = X_test_copy.drop(columns = cols_to_remove)\n",
        "\n",
        "features = [i for j, i in enumerate(col_names) if j not in remove_indices]\n",
        "features.pop()"
      ],
      "execution_count": null,
      "outputs": [
        {
          "output_type": "stream",
          "text": [
            "Indices to remove:  [7, 8, 9, 11, 14, 15, 17, 19, 20, 21, 32, 40]\n"
          ],
          "name": "stdout"
        },
        {
          "output_type": "execute_result",
          "data": {
            "text/plain": [
              "'labels'"
            ]
          },
          "metadata": {
            "tags": []
          },
          "execution_count": 13
        }
      ]
    },
    {
      "cell_type": "code",
      "metadata": {
        "id": "AXxfJ-11qblH",
        "colab_type": "code",
        "colab": {}
      },
      "source": [
        "from sklearn.compose import ColumnTransformer\n",
        "from sklearn.preprocessing import Normalizer\n",
        "from sklearn.preprocessing import OneHotEncoder\n",
        "from sklearn import preprocessing\n",
        "\n",
        "# Encode the data\n",
        "\n",
        "ct_new = ColumnTransformer([\n",
        "    (\"onehot\", OneHotEncoder(handle_unknown='ignore'), nominal_cols),\n",
        "], remainder='passthrough')\n",
        "\n",
        "X_train_papers = pd.DataFrame((ct_new.fit_transform(X_train_remove)).toarray())\n",
        "X_val_papers = pd.DataFrame((ct_new.transform(X_val_remove)).toarray())\n",
        "X_test_papers = pd.DataFrame((ct_new.transform(X_test_remove)).toarray())"
      ],
      "execution_count": null,
      "outputs": []
    },
    {
      "cell_type": "code",
      "metadata": {
        "id": "Qvv_diBsqblM",
        "colab_type": "code",
        "colab": {
          "base_uri": "https://localhost:8080/",
          "height": 35
        },
        "outputId": "a52229c8-fe28-476f-b384-aee6ff413354"
      },
      "source": [
        "# And then we normalize the data \n",
        "\n",
        "scalerr = preprocessing.StandardScaler().fit(X_train_papers)\n",
        "\n",
        "X_train_scaled = scalerr.transform(X_train_papers)\n",
        "X_val_scaled = scalerr.transform(X_val_papers)\n",
        "X_test_scaled = scalerr.transform(X_test_papers)\n",
        "\n",
        "print(\"Done !\")"
      ],
      "execution_count": null,
      "outputs": [
        {
          "output_type": "stream",
          "text": [
            "Done !\n"
          ],
          "name": "stdout"
        }
      ]
    },
    {
      "cell_type": "code",
      "metadata": {
        "id": "1jAxHxcNUit_",
        "colab_type": "code",
        "colab": {
          "base_uri": "https://localhost:8080/",
          "height": 35
        },
        "outputId": "d13d2d69-93c4-4c33-e36b-4d09301304a9"
      },
      "source": [
        "X_train_scaled.shape"
      ],
      "execution_count": null,
      "outputs": [
        {
          "output_type": "execute_result",
          "data": {
            "text/plain": [
              "(100778, 109)"
            ]
          },
          "metadata": {
            "tags": []
          },
          "execution_count": 16
        }
      ]
    },
    {
      "cell_type": "code",
      "metadata": {
        "id": "Wojqgh9Okyyo",
        "colab_type": "code",
        "colab": {
          "base_uri": "https://localhost:8080/",
          "height": 35
        },
        "outputId": "13b5ae79-2c99-4cba-dd23-da6c0d316eed"
      },
      "source": [
        ", #!pip install tensorflow Boruta\n",
        "\n",
        "#import pandas as pd\n",
        "#from sklearn.ensemble import RandomForestClassifier\n",
        "#from boruta import BorutaPy\n",
        "\n",
        "# load X and y\n",
        "# NOTE BorutaPy accepts numpy arrays only, hence the .values attribute\n",
        "#y = Y_train2.to_numpy().ravel()\n",
        "\n",
        "# define random forest classifier, with utilising all cores and\n",
        "# sampling in proportion to y labels\n",
        "#rf = RandomForestClassifier(n_jobs=-1, class_weight='balanced', max_depth=5)\n",
        "\n",
        "# define Boruta feature selection method\n",
        "#feat_selector = BorutaPy(rf, n_estimators='auto', verbose=2, random_state=1, max_iter=16)\n",
        "\n",
        "# find all relevant features - 5 features should be selected\n",
        "#feat_selector.fit(X_train_scaled, y)\n",
        "\n",
        "# check selected features - first 5 features are selected\n",
        "#feat_selector.support_\n",
        "\n",
        "# check ranking of features\n",
        "#feat_selector.ranking_\n",
        "\n",
        "# call transform() on X to filter it down to selected features\n",
        "#X_train_boruta = feat_selector.transform(X_train_scaled)\n",
        "#X_val_boruta = feat_selector.transform(X_val_scaled)\n",
        "#X_test_boruta = feat_selector.transform(X_test_scaled)"
      ],
      "execution_count": null,
      "outputs": [
        {
          "output_type": "execute_result",
          "data": {
            "text/plain": [
              "('#!pip', 'install', 'tensorflow', 'Boruta')"
            ]
          },
          "metadata": {
            "tags": []
          },
          "execution_count": 17
        }
      ]
    },
    {
      "cell_type": "markdown",
      "metadata": {
        "id": "apPJYwHgqblS",
        "colab_type": "text"
      },
      "source": [
        "## PCA"
      ]
    },
    {
      "cell_type": "code",
      "metadata": {
        "id": "Z5CdMUmUqblU",
        "colab_type": "code",
        "colab": {
          "base_uri": "https://localhost:8080/",
          "height": 302
        },
        "outputId": "49863c69-6de6-4c18-facb-047362ef94c8"
      },
      "source": [
        "from sklearn.decomposition import PCA\n",
        "\n",
        "# We apply PCA data after feature extraction\n",
        "\n",
        "my_PCA = PCA(n_components=90) # 99% Variance retained\n",
        "my_PCA.fit(X_train_scaled)\n",
        "\n",
        "X_train_PCA = my_PCA.transform(X_train_scaled) \n",
        "X_val_PCA = my_PCA.transform(X_val_scaled) \n",
        "X_test_PCA = my_PCA.transform(X_test_scaled) \n",
        "\n",
        "#print(my_PCA.explained_variance_)\n",
        "#print(my_PCA.explained_variance_ratio_)\n",
        "print(my_PCA.explained_variance_ratio_.cumsum())\n",
        "(\"Done !\", X_train_PCA.shape)"
      ],
      "execution_count": null,
      "outputs": [
        {
          "output_type": "stream",
          "text": [
            "[0.08002966 0.12681414 0.15968486 0.18640701 0.20650384 0.22513801\n",
            " 0.24074832 0.2548583  0.26788895 0.27928882 0.29018296 0.30097618\n",
            " 0.31170075 0.32224512 0.3326961  0.34301534 0.35276842 0.36232579\n",
            " 0.37176109 0.38111812 0.39045657 0.39973862 0.40901626 0.41826022\n",
            " 0.42749935 0.4367337  0.44596146 0.45518777 0.46441359 0.47363816\n",
            " 0.48286104 0.49208156 0.50130088 0.51051899 0.51973657 0.52895204\n",
            " 0.53816733 0.54738126 0.55659432 0.56580624 0.57501754 0.58422831\n",
            " 0.59343803 0.60264756 0.61185624 0.62106404 0.6302716  0.63947877\n",
            " 0.64868522 0.65789129 0.66709574 0.67629966 0.68550268 0.69470394\n",
            " 0.70390443 0.71310383 0.72230219 0.7314999  0.74069294 0.74987816\n",
            " 0.75906219 0.76824299 0.77742323 0.78660309 0.79577987 0.80495593\n",
            " 0.81413154 0.82330663 0.8324815  0.841656   0.8508302  0.86000288\n",
            " 0.86916997 0.878317   0.88743721 0.89647383 0.90547278 0.91424465\n",
            " 0.92259725 0.93078023 0.93840697 0.94569563 0.95198907 0.95808482\n",
            " 0.96353957 0.96839102 0.97320684 0.9774537  0.98135633 0.98482287]\n"
          ],
          "name": "stdout"
        },
        {
          "output_type": "execute_result",
          "data": {
            "text/plain": [
              "('Done !', (100778, 90))"
            ]
          },
          "metadata": {
            "tags": []
          },
          "execution_count": 18
        }
      ]
    },
    {
      "cell_type": "markdown",
      "metadata": {
        "id": "_qXE6Q7-qbld",
        "colab_type": "text"
      },
      "source": [
        "Now we prepare labels for binary and multi-class classification"
      ]
    },
    {
      "cell_type": "code",
      "metadata": {
        "id": "TeenTlCSqblf",
        "colab_type": "code",
        "colab": {
          "base_uri": "https://localhost:8080/",
          "height": 35
        },
        "outputId": "2ce791f0-8ef2-4ba3-cf85-7a9bb28c7674"
      },
      "source": [
        "# Binary Classification\n",
        "\n",
        "ct_2 = ColumnTransformer([\n",
        "    (\"onehot\", OneHotEncoder(handle_unknown='ignore'), ['labels']),\n",
        "], remainder='passthrough')\n",
        "\n",
        "#Y_train2 = pd.DataFrame(ct_2.fit_transform(Y_train2), columns = ct_2.get_feature_names())\n",
        "#Y_test2 = pd.DataFrame(ct_2.transform(Y_test2), columns = ct_2.get_feature_names())\n",
        "\n",
        "Y_train2 = Y_train2.replace('normal', 0)\n",
        "Y_train2 = Y_train2.replace('attack', 1)\n",
        "\n",
        "Y_val2 = Y_val2.replace('normal', 0)\n",
        "Y_val2 = Y_val2.replace('attack', 1)\n",
        "\n",
        "Y_test2 = Y_test2.replace('normal', 0)\n",
        "Y_test2 = Y_test2.replace('attack', 1)\n",
        "\n",
        "# Multi-class Classification\n",
        "\n",
        "ct_5 = ColumnTransformer([\n",
        "    (\"onehot\", OneHotEncoder(handle_unknown='ignore'), ['labels']),\n",
        "], remainder='passthrough')\n",
        "\n",
        "Y_train5 = pd.DataFrame(ct_5.fit_transform(Y_train5).toarray(), columns = ct_5.get_feature_names())\n",
        "\n",
        "Y_val5 = pd.DataFrame(ct_5.fit_transform(Y_val5).toarray(), columns = ct_5.get_feature_names())\n",
        "\n",
        "Y_test5 = pd.DataFrame(ct_5.transform(Y_test5).toarray(), columns = ct_5.get_feature_names())\n",
        "\n",
        "print(\"Done !\")"
      ],
      "execution_count": null,
      "outputs": [
        {
          "output_type": "stream",
          "text": [
            "Done !\n"
          ],
          "name": "stdout"
        }
      ]
    },
    {
      "cell_type": "markdown",
      "metadata": {
        "id": "7tEm8Cg8qbll",
        "colab_type": "text"
      },
      "source": [
        "# Neural Networks / Base learners"
      ]
    },
    {
      "cell_type": "code",
      "metadata": {
        "id": "fYVcm7qDqbll",
        "colab_type": "code",
        "colab": {}
      },
      "source": [
        "from torch.utils.data import TensorDataset\n",
        "from torch.utils.data import DataLoader\n",
        "\n",
        "# Hyper-parameters of the first neural network\n",
        "data_size, input_size = X_train_PCA.shape\n",
        "num_classes = 1\n",
        "num_epochs = 15\n",
        "\n",
        "remove_percentage = 0.67\n",
        "\n",
        "# convert the data arrays into torch tensors\n",
        "Xtrain_PCA = torch.from_numpy(X_train_PCA).float()\n",
        "Ytrain = torch.from_numpy(Y_train2.to_numpy()).float()\n",
        "\n",
        "Xval_PCA = torch.from_numpy(X_val_PCA).float()\n",
        "Yval = torch.from_numpy(Y_val2.to_numpy()).float()\n",
        "\n",
        "Xtest_PCA = torch.from_numpy(X_test_PCA).float()\n",
        "Ytest = torch.from_numpy(Y_test2.to_numpy()).float()"
      ],
      "execution_count": null,
      "outputs": []
    },
    {
      "cell_type": "markdown",
      "metadata": {
        "id": "YylnU_zrqblq",
        "colab_type": "text"
      },
      "source": [
        "Define the first neural network"
      ]
    },
    {
      "cell_type": "code",
      "metadata": {
        "id": "5w4Z-2Brqblt",
        "colab_type": "code",
        "colab": {
          "base_uri": "https://localhost:8080/",
          "height": 35
        },
        "outputId": "39ec96f1-b6a5-4ed2-f16e-b689ca31ebfc"
      },
      "source": [
        "# Fully connected neural network with one hidden layer\n",
        "class NeuralNet(torch.nn.Module):\n",
        "    def __init__(self, input_size, hidden_size, num_classes, remove_percentage, order):\n",
        "        super(NeuralNet, self).__init__()\n",
        "        self.order = order\n",
        "        self.fc1 = torch.nn.Linear(input_size, hidden_size) \n",
        "        self.relu = torch.nn.ReLU()\n",
        "        self.fc2 = torch.nn.Linear(hidden_size, num_classes)  \n",
        "        self.log_soft = torch.nn.Sigmoid()\n",
        "        \n",
        "    def forward(self, x):\n",
        "        if self.training:\n",
        "            out = self.train_module(x, self.order)\n",
        "            out = self.fc1(out)\n",
        "            out = self.relu(out)\n",
        "            out = self.fc2(out)\n",
        "            out = self.log_soft(out)\n",
        "        else:\n",
        "            out = self.fc1(x)\n",
        "            out = self.relu(out)\n",
        "            out = self.fc2(out)\n",
        "            out = self.log_soft(out)\n",
        "        return out\n",
        "    \n",
        "    def train_module(self, input_data, order):\n",
        "        # This function will remove remove_percentage % of features\n",
        "        # Order is the rank of features to remove\n",
        "        out = input_data.clone()\n",
        "        \n",
        "        keep_percentage = round(1 - remove_percentage, 2)\n",
        "        removing_step = round(input_size * keep_percentage)\n",
        "            \n",
        "        for i in range(input_size):\n",
        "            if i in range((order - 1) * removing_step, order * removing_step):\n",
        "                out[:, i] /= keep_percentage\n",
        "            else:\n",
        "                out[:, i] = 0.0\n",
        "        return out\n",
        "\n",
        "seed_value = 10 # some number that you manually pick\n",
        "torch.manual_seed(seed_value)"
      ],
      "execution_count": null,
      "outputs": [
        {
          "output_type": "execute_result",
          "data": {
            "text/plain": [
              "<torch._C.Generator at 0x7f9f0f9b0cd0>"
            ]
          },
          "metadata": {
            "tags": []
          },
          "execution_count": 21
        }
      ]
    },
    {
      "cell_type": "code",
      "metadata": {
        "id": "DkRpFiM5qblw",
        "colab_type": "code",
        "colab": {}
      },
      "source": [
        "from torch.autograd import Variable\n",
        "\n",
        "# define the training procedure\n",
        "# i.e. one step of gradient descent\n",
        "# there are lots of steps\n",
        "# so we encapsulate it in a function\n",
        "# Note: inputs and labels are torch tensors\n",
        "\n",
        "def train(model, criterion, optimizer, inputs, labels):\n",
        "    \n",
        "    inputs = Variable(inputs, requires_grad=False)\n",
        "    labels = Variable(labels, requires_grad=False)\n",
        "    \n",
        "    model.train()\n",
        "    \n",
        "    # Forward pass\n",
        "    outputs = model(inputs)\n",
        "    loss = criterion(outputs, labels)\n",
        "\n",
        "    # Backward and optimize\n",
        "    optimizer.zero_grad()\n",
        "    loss.backward()\n",
        "    optimizer.step()\n",
        "    \n",
        "    return loss.item()\n",
        "\n",
        "# similar to train() but not doing the backprop step\n",
        "def get_cost(model, criterion, inputs, labels):\n",
        "    \n",
        "    inputs = Variable(inputs, requires_grad=False)\n",
        "    labels = Variable(labels, requires_grad=False)\n",
        "\n",
        "    model.eval()\n",
        "    # Forward\n",
        "    outputs = model(inputs)\n",
        "    loss = criterion(outputs, labels)\n",
        "     \n",
        "    return loss.item()"
      ],
      "execution_count": null,
      "outputs": []
    },
    {
      "cell_type": "code",
      "metadata": {
        "id": "WwmFDFA7qbl0",
        "colab_type": "code",
        "colab": {}
      },
      "source": [
        "from sklearn.metrics import accuracy_score\n",
        "from sklearn.metrics import classification_report\n",
        "\n",
        "# define the prediction procedure\n",
        "def predict(model, inputs):\n",
        "    \n",
        "    model.eval()\n",
        "    prediction = model(inputs)\n",
        "    prediction = (prediction > 0.5)\n",
        "    \n",
        "    return prediction\n",
        "\n",
        "# return the accuracy\n",
        "def my_score(model, inputs, labels):\n",
        "    prediction = predict(model, inputs)\n",
        "    return (classification_report(labels, prediction, target_names=['Normal', 'Attack']))\n",
        "\n",
        "# return the full performance metrics\n",
        "def get_accuracy(model, inputs, labels):\n",
        "    prediction = predict(model, inputs)\n",
        "    return accuracy_score(labels, prediction)"
      ],
      "execution_count": null,
      "outputs": []
    },
    {
      "cell_type": "code",
      "metadata": {
        "id": "PTirZlayqbl5",
        "colab_type": "code",
        "colab": {
          "base_uri": "https://localhost:8080/",
          "height": 319
        },
        "outputId": "e3ccb3d1-43c1-4f41-d830-08438f8ff235"
      },
      "source": [
        "order = 1 # The first 30 features will be keeped\n",
        "hidden_size = 10\n",
        "model1 = NeuralNet(input_size, hidden_size, num_classes, remove_percentage, order)\n",
        "\n",
        "\n",
        "\n",
        "# Loss and optimizer\n",
        "criterion1 = torch.nn.BCELoss()\n",
        "optimizer1 = torch.optim.SGD(model1.parameters(), lr= 0.003)\n",
        "\n",
        "\n",
        "# Use a DataLoader to manage batches\n",
        "bs = 256 # batch size\n",
        "train_ds = TensorDataset(Xtrain_PCA, Ytrain)\n",
        "valid_ds = TensorDataset(Xval_PCA, Yval)\n",
        "\n",
        "train_dl = DataLoader(train_ds, batch_size=bs, shuffle=True)\n",
        "valid_dl = DataLoader(valid_ds, batch_size=bs * 2)\n",
        "\n",
        "\n",
        "\n",
        "# things to keep track of\n",
        "train_costs = []\n",
        "validation_costs = []\n",
        "train_accuracies = []\n",
        "validation_accuracies = []\n",
        "\n",
        "print(\"Training the first neural network...\")\n",
        "\n",
        "# main training loop\n",
        "for i in range(num_epochs): # Number of epochs\n",
        "    cost = 0\n",
        "    val_cost = 0\n",
        "    for xb,yb in train_dl:\n",
        "        cost += train(model1, criterion1, optimizer1, xb, yb)\n",
        "        \n",
        "    train_acc = get_accuracy(model1, Xtrain_PCA, Ytrain)\n",
        "    val_acc = get_accuracy(model1, Xval_PCA, Yval) \n",
        "    val_cost = get_cost(model1, criterion1, Xval_PCA, Yval)\n",
        "    test_acc = get_accuracy(model1, Xtest_PCA, Ytest) \n",
        "\n",
        "    print(\"Epoch: %d, val_cost: %f, val_acc: %.4f, test_acc: %.4f\" % (i, val_cost, val_acc, test_acc))\n",
        "    \n",
        "    # for plotting\n",
        "    train_costs.append(cost / len(train_dl))\n",
        "    train_accuracies.append(train_acc)\n",
        "    validation_costs.append(val_cost)\n",
        "    validation_accuracies.append(val_acc)\n",
        "#    if (round(val_cost, 3) <= 0.3):\n",
        "#      break\n",
        "print(\"Training is done\")"
      ],
      "execution_count": null,
      "outputs": [
        {
          "output_type": "stream",
          "text": [
            "Training the first neural network...\n",
            "Epoch: 0, val_cost: 0.459552, val_acc: 0.9213, test_acc: 0.7652\n",
            "Epoch: 1, val_cost: 0.358524, val_acc: 0.9453, test_acc: 0.7560\n",
            "Epoch: 2, val_cost: 0.318044, val_acc: 0.9495, test_acc: 0.7480\n",
            "Epoch: 3, val_cost: 0.296283, val_acc: 0.9528, test_acc: 0.7425\n",
            "Epoch: 4, val_cost: 0.282477, val_acc: 0.9573, test_acc: 0.7405\n",
            "Epoch: 5, val_cost: 0.272478, val_acc: 0.9594, test_acc: 0.7390\n",
            "Epoch: 6, val_cost: 0.264995, val_acc: 0.9608, test_acc: 0.7382\n",
            "Epoch: 7, val_cost: 0.258708, val_acc: 0.9619, test_acc: 0.7375\n",
            "Epoch: 8, val_cost: 0.253728, val_acc: 0.9628, test_acc: 0.7375\n",
            "Epoch: 9, val_cost: 0.249622, val_acc: 0.9637, test_acc: 0.7361\n",
            "Epoch: 10, val_cost: 0.245525, val_acc: 0.9639, test_acc: 0.7353\n",
            "Epoch: 11, val_cost: 0.242197, val_acc: 0.9642, test_acc: 0.7340\n",
            "Epoch: 12, val_cost: 0.239630, val_acc: 0.9660, test_acc: 0.7336\n",
            "Epoch: 13, val_cost: 0.236335, val_acc: 0.9663, test_acc: 0.7332\n",
            "Epoch: 14, val_cost: 0.233380, val_acc: 0.9663, test_acc: 0.7332\n",
            "Training is done\n"
          ],
          "name": "stdout"
        }
      ]
    },
    {
      "cell_type": "code",
      "metadata": {
        "id": "71bf6aVWqbl9",
        "colab_type": "code",
        "colab": {
          "base_uri": "https://localhost:8080/",
          "height": 543
        },
        "outputId": "58eae69e-2cbe-425b-de11-7c3d5fcde9c9"
      },
      "source": [
        "# plot the results\n",
        "plt.plot(train_costs, label='Training cost')\n",
        "plt.plot(validation_costs, label='Validation cost')\n",
        "plt.title('')\n",
        "plt.xlabel('No. of Epochs')\n",
        "plt.ylabel('Cost Function')\n",
        "plt.legend()\n",
        "plt.savefig(\"model1-trainval.png\", dpi=300)\n",
        "plt.show()\n",
        "\n",
        "plt.plot(train_accuracies, label='Train accuracy')\n",
        "plt.plot(validation_accuracies, label='Val accuracy')\n",
        "plt.title('Accuracy')\n",
        "plt.legend()\n",
        "plt.show()"
      ],
      "execution_count": null,
      "outputs": [
        {
          "output_type": "display_data",
          "data": {
            "image/png": "[encoded data removed]",
            "text/plain": [
              "<Figure size 432x288 with 1 Axes>"
            ]
          },
          "metadata": {
            "tags": []
          }
        },
        {
          "output_type": "display_data",
          "data": {
            "image/png": "[encoded data removed]",
            "text/plain": [
              "<Figure size 432x288 with 1 Axes>"
            ]
          },
          "metadata": {
            "tags": []
          }
        }
      ]
    },
    {
      "cell_type": "code",
      "metadata": {
        "id": "6Sp9ig6RqbmB",
        "colab_type": "code",
        "colab": {
          "base_uri": "https://localhost:8080/",
          "height": 177
        },
        "outputId": "ce280e82-5578-4ccd-8fd2-2ccd7b1f9bb8"
      },
      "source": [
        "test_report1 = my_score(model1, Xtest_PCA, Ytest) \n",
        "test_cost1 = get_cost(model1, criterion1, Xtest_PCA, Ytest)\n",
        "print(test_report1)"
      ],
      "execution_count": null,
      "outputs": [
        {
          "output_type": "stream",
          "text": [
            "              precision    recall  f1-score   support\n",
            "\n",
            "      Normal       0.63      0.92      0.75      9711\n",
            "      Attack       0.91      0.59      0.72     12833\n",
            "\n",
            "    accuracy                           0.73     22544\n",
            "   macro avg       0.77      0.76      0.73     22544\n",
            "weighted avg       0.79      0.73      0.73     22544\n",
            "\n"
          ],
          "name": "stdout"
        }
      ]
    },
    {
      "cell_type": "code",
      "metadata": {
        "colab_type": "code",
        "id": "Hmedn-fhlVfN",
        "colab": {
          "base_uri": "https://localhost:8080/",
          "height": 319
        },
        "outputId": "1b201316-724e-421f-b77e-05d66112ca00"
      },
      "source": [
        "order = 2 # The second 30 features will be keeped\n",
        "hidden_size = 20\n",
        "model2 = NeuralNet(input_size, hidden_size, num_classes, remove_percentage, order)\n",
        "\n",
        "\n",
        "# Loss and optimizer\n",
        "criterion2 = torch.nn.BCELoss()\n",
        "optimizer2 = torch.optim.Rprop(model2.parameters(), lr = 3e-2)\n",
        "\n",
        "# Use a DataLoader to manage batches\n",
        "bs = data_size # batch size\n",
        "train_ds = TensorDataset(Xtrain_PCA, Ytrain)\n",
        "valid_ds = TensorDataset(Xval_PCA, Yval)\n",
        "\n",
        "train_dl = DataLoader(train_ds, batch_size=bs, shuffle=True)\n",
        "valid_dl = DataLoader(valid_ds, batch_size=bs * 2)\n",
        "\n",
        "# things to keep track of\n",
        "train_costs2 = []\n",
        "validation_costs2 = []\n",
        "train_accuracies2 = []\n",
        "validation_accuracies2 = []\n",
        "\n",
        "print(\"Training the second neural network...\")\n",
        "\n",
        "# main training loop\n",
        "for i in range(num_epochs):\n",
        "    cost = 0\n",
        "    val_cost = 0\n",
        "    for xb,yb in train_dl:\n",
        "        cost += train(model2, criterion2, optimizer2, xb, yb)\n",
        "        \n",
        "    train_acc = get_accuracy(model2, Xtrain_PCA, Ytrain)\n",
        "    val_acc = get_accuracy(model2, Xval_PCA, Yval) \n",
        "    val_cost = get_cost(model2, criterion2, Xval_PCA, Yval)\n",
        "    \n",
        "    test_acc = get_accuracy(model2, Xtest_PCA, Ytest)\n",
        "\n",
        "    print(\"Epoch: %d, val_cost: %f, val_acc: %.4f, test_acc: %.4f\" % (i, val_cost, val_acc, test_acc))\n",
        "    \n",
        "    # for plotting\n",
        "    train_costs2.append(cost / len(train_dl))\n",
        "    train_accuracies2.append(train_acc)\n",
        "    validation_costs2.append(val_cost)\n",
        "    validation_accuracies2.append(val_acc)\n",
        "\n",
        "print(\"Training is done\")"
      ],
      "execution_count": null,
      "outputs": [
        {
          "output_type": "stream",
          "text": [
            "Training the second neural network...\n",
            "Epoch: 0, val_cost: 0.676735, val_acc: 0.6882, test_acc: 0.5707\n",
            "Epoch: 1, val_cost: 0.653340, val_acc: 0.7059, test_acc: 0.6450\n",
            "Epoch: 2, val_cost: 0.632073, val_acc: 0.7143, test_acc: 0.6762\n",
            "Epoch: 3, val_cost: 0.609567, val_acc: 0.7403, test_acc: 0.6641\n",
            "Epoch: 4, val_cost: 0.590167, val_acc: 0.7373, test_acc: 0.6847\n",
            "Epoch: 5, val_cost: 0.571238, val_acc: 0.6300, test_acc: 0.5763\n",
            "Epoch: 6, val_cost: 0.553349, val_acc: 0.6484, test_acc: 0.6164\n",
            "Epoch: 7, val_cost: 0.540250, val_acc: 0.7080, test_acc: 0.6414\n",
            "Epoch: 8, val_cost: 0.520787, val_acc: 0.7196, test_acc: 0.6400\n",
            "Epoch: 9, val_cost: 0.504287, val_acc: 0.7099, test_acc: 0.6404\n",
            "Epoch: 10, val_cost: 0.502979, val_acc: 0.7195, test_acc: 0.5958\n",
            "Epoch: 11, val_cost: 0.469917, val_acc: 0.8143, test_acc: 0.6862\n",
            "Epoch: 12, val_cost: 0.468464, val_acc: 0.7774, test_acc: 0.6544\n",
            "Epoch: 13, val_cost: 0.456732, val_acc: 0.8232, test_acc: 0.6842\n",
            "Epoch: 14, val_cost: 0.452915, val_acc: 0.8215, test_acc: 0.6735\n",
            "Training is done\n"
          ],
          "name": "stdout"
        }
      ]
    },
    {
      "cell_type": "code",
      "metadata": {
        "colab_type": "code",
        "id": "iJPaZn4jmHHf",
        "colab": {
          "base_uri": "https://localhost:8080/",
          "height": 543
        },
        "outputId": "24216501-6a46-43c8-97c5-b1f1a9c0c2ce"
      },
      "source": [
        "# plot the results\n",
        "plt.plot(train_costs2, label='Training cost')\n",
        "plt.plot(validation_costs2, label='Validation cost')\n",
        "plt.title('')\n",
        "plt.xlabel('No. of Epochs')\n",
        "plt.ylabel('Cost Function')\n",
        "plt.legend()\n",
        "plt.savefig(\"model2-trainval.png\", dpi=300)\n",
        "plt.show()\n",
        "\n",
        "plt.plot(train_accuracies2, label='Train accuracy')\n",
        "plt.plot(validation_accuracies2, label='Val accuracy')\n",
        "plt.title('Accuracy')\n",
        "plt.legend()\n",
        "plt.show()"
      ],
      "execution_count": null,
      "outputs": [
        {
          "output_type": "display_data",
          "data": {
            "image/png": "[encoded data removed]",
            "text/plain": [
              "<Figure size 432x288 with 1 Axes>"
            ]
          },
          "metadata": {
            "tags": []
          }
        },
        {
          "output_type": "display_data",
          "data": {
            "image/png": "[encoded data removed]",
            "text/plain": [
              "<Figure size 432x288 with 1 Axes>"
            ]
          },
          "metadata": {
            "tags": []
          }
        }
      ]
    },
    {
      "cell_type": "code",
      "metadata": {
        "colab_type": "code",
        "id": "3CFdd_VNhDVa",
        "colab": {
          "base_uri": "https://localhost:8080/",
          "height": 177
        },
        "outputId": "4105e4c4-9b91-4e2d-f9e8-a00e977904a9"
      },
      "source": [
        "test_report2 = my_score(model2, Xtest_PCA, Ytest) \n",
        "test_cost2 = get_cost(model2, criterion2, Xtest_PCA, Ytest)\n",
        "print(test_report2)"
      ],
      "execution_count": null,
      "outputs": [
        {
          "output_type": "stream",
          "text": [
            "              precision    recall  f1-score   support\n",
            "\n",
            "      Normal       0.58      0.88      0.70      9711\n",
            "      Attack       0.85      0.51      0.64     12833\n",
            "\n",
            "    accuracy                           0.67     22544\n",
            "   macro avg       0.72      0.70      0.67     22544\n",
            "weighted avg       0.74      0.67      0.67     22544\n",
            "\n"
          ],
          "name": "stdout"
        }
      ]
    },
    {
      "cell_type": "markdown",
      "metadata": {
        "colab_type": "text",
        "id": "m7Nq2sg7XSVV"
      },
      "source": [
        "TUning the third neural network"
      ]
    },
    {
      "cell_type": "code",
      "metadata": {
        "colab_type": "code",
        "id": "kHdfw4w6XU5A",
        "colab": {
          "base_uri": "https://localhost:8080/",
          "height": 319
        },
        "outputId": "4aaf6daf-db65-4275-e1bf-2207696c5a27"
      },
      "source": [
        "order = 3 # The third 30 features will be keeped\n",
        "hidden_size = 15\n",
        "model3 = NeuralNet(input_size, hidden_size, num_classes, remove_percentage, order)\n",
        "\n",
        "# Loss and optimizer\n",
        "criterion3 = torch.nn.BCELoss()\n",
        "optimizer3 = torch.optim.Adam(model3.parameters(), lr = 1e-4, amsgrad=True)\n",
        "\n",
        "#######################################################################################\n",
        "\n",
        "# Use a DataLoader to manage batches\n",
        "bs = 512 # batch size\n",
        "train_ds = TensorDataset(Xtrain_PCA, Ytrain)\n",
        "valid_ds = TensorDataset(Xval_PCA, Yval)\n",
        "\n",
        "train_dl = DataLoader(train_ds, batch_size=bs, shuffle=True)\n",
        "valid_dl = DataLoader(valid_ds, batch_size=bs * 2)\n",
        "\n",
        "# things to keep track of\n",
        "train_costs3 = []\n",
        "validation_costs3 = []\n",
        "train_accuracies3 = []\n",
        "validation_accuracies3 = []\n",
        "\n",
        "print(\"Training the third neural network...\")\n",
        "\n",
        "# main training loop\n",
        "for i in range(num_epochs): # Number of epochs\n",
        "    cost = 0\n",
        "    val_cost = 0\n",
        "    for xb,yb in train_dl:\n",
        "        cost += train(model3, criterion3, optimizer3, xb, yb)\n",
        "        \n",
        "    train_acc = get_accuracy(model3, Xtrain_PCA, Ytrain)\n",
        "    val_acc = get_accuracy(model3, Xval_PCA, Yval) \n",
        "    val_cost = get_cost(model3, criterion3, Xval_PCA, Yval)\n",
        "    \n",
        "    test_acc = get_accuracy(model3, Xtest_PCA, Ytest)\n",
        "\n",
        "    print(\"Epoch: %d, val_cost: %f, val_acc: %.4f, test_acc: %.4f\" % (i, val_cost, val_acc, test_acc))\n",
        "    \n",
        "    # for plotting\n",
        "    train_costs3.append(cost / len(train_dl))\n",
        "    train_accuracies3.append(train_acc)\n",
        "    validation_costs3.append(val_cost)\n",
        "    validation_accuracies3.append(val_acc)\n",
        "\n",
        "print(\"Training is done\")"
      ],
      "execution_count": null,
      "outputs": [
        {
          "output_type": "stream",
          "text": [
            "Training the third neural network...\n",
            "Epoch: 0, val_cost: 0.713280, val_acc: 0.3673, test_acc: 0.3978\n",
            "Epoch: 1, val_cost: 0.706774, val_acc: 0.4340, test_acc: 0.4783\n",
            "Epoch: 2, val_cost: 0.700262, val_acc: 0.5996, test_acc: 0.6500\n",
            "Epoch: 3, val_cost: 0.694460, val_acc: 0.6128, test_acc: 0.6882\n",
            "Epoch: 4, val_cost: 0.688195, val_acc: 0.6239, test_acc: 0.6934\n",
            "Epoch: 5, val_cost: 0.681391, val_acc: 0.6418, test_acc: 0.7019\n",
            "Epoch: 6, val_cost: 0.674184, val_acc: 0.7029, test_acc: 0.7234\n",
            "Epoch: 7, val_cost: 0.666579, val_acc: 0.7553, test_acc: 0.7197\n",
            "Epoch: 8, val_cost: 0.658595, val_acc: 0.7659, test_acc: 0.7213\n",
            "Epoch: 9, val_cost: 0.650764, val_acc: 0.7679, test_acc: 0.7201\n",
            "Epoch: 10, val_cost: 0.642786, val_acc: 0.7718, test_acc: 0.7208\n",
            "Epoch: 11, val_cost: 0.635287, val_acc: 0.7698, test_acc: 0.7189\n",
            "Epoch: 12, val_cost: 0.628263, val_acc: 0.7711, test_acc: 0.7167\n",
            "Epoch: 13, val_cost: 0.621607, val_acc: 0.7712, test_acc: 0.7143\n",
            "Epoch: 14, val_cost: 0.615616, val_acc: 0.7708, test_acc: 0.7148\n",
            "Training is done\n"
          ],
          "name": "stdout"
        }
      ]
    },
    {
      "cell_type": "code",
      "metadata": {
        "colab_type": "code",
        "id": "XQduxVACXn7U",
        "colab": {
          "base_uri": "https://localhost:8080/",
          "height": 543
        },
        "outputId": "10de531f-6e37-4002-c5a5-45b3dd71cbb2"
      },
      "source": [
        "# plot the results\n",
        "plt.plot(train_costs3, label='Training cost')\n",
        "plt.plot(validation_costs3, label='Validation cost')\n",
        "plt.title('')\n",
        "plt.xlabel('No. of Epochs')\n",
        "plt.ylabel('Cost Function')\n",
        "plt.legend()\n",
        "plt.savefig(\"model3-trainval.png\", dpi=300)\n",
        "plt.show()\n",
        "\n",
        "plt.plot(train_accuracies3, label='Train accuracy')\n",
        "plt.plot(validation_accuracies3, label='Val accuracy')\n",
        "plt.title('Accuracy')\n",
        "plt.legend()\n",
        "plt.show()"
      ],
      "execution_count": null,
      "outputs": [
        {
          "output_type": "display_data",
          "data": {
            "image/png": "[encoded data removed]",
            "text/plain": [
              "<Figure size 432x288 with 1 Axes>"
            ]
          },
          "metadata": {
            "tags": []
          }
        },
        {
          "output_type": "display_data",
          "data": {
            "image/png": "[encoded data removed]",
            "text/plain": [
              "<Figure size 432x288 with 1 Axes>"
            ]
          },
          "metadata": {
            "tags": []
          }
        }
      ]
    },
    {
      "cell_type": "code",
      "metadata": {
        "colab_type": "code",
        "id": "tB1wOouCXtfQ",
        "colab": {
          "base_uri": "https://localhost:8080/",
          "height": 177
        },
        "outputId": "28b902ca-a8e0-4900-973f-8af0d142eee8"
      },
      "source": [
        "test_report3 = my_score(model3, Xtest_PCA, Ytest) \n",
        "test_cost3 = get_cost(model3, criterion3, Xtest_PCA, Ytest)\n",
        "print(test_report3)"
      ],
      "execution_count": null,
      "outputs": [
        {
          "output_type": "stream",
          "text": [
            "              precision    recall  f1-score   support\n",
            "\n",
            "      Normal       0.61      0.95      0.74      9711\n",
            "      Attack       0.94      0.54      0.68     12833\n",
            "\n",
            "    accuracy                           0.71     22544\n",
            "   macro avg       0.77      0.74      0.71     22544\n",
            "weighted avg       0.79      0.71      0.71     22544\n",
            "\n"
          ],
          "name": "stdout"
        }
      ]
    },
    {
      "cell_type": "markdown",
      "metadata": {
        "colab_type": "text",
        "id": "VV5KCA9wX_uB"
      },
      "source": [
        "# Voting Systems"
      ]
    },
    {
      "cell_type": "code",
      "metadata": {
        "colab_type": "code",
        "id": "AAO3oJqTYELo",
        "colab": {}
      },
      "source": [
        "def fct (input1, input2, input3):\n",
        "    # Sort the predictions p\n",
        "    votes = [input1, input2, input3]\n",
        "    votes.sort()\n",
        "    return (1 / 2) * ( votes[0] * ( 1 - weight(votes[1]) ) + votes[1] + weight(votes[1]) * votes[2] )\n",
        "\n",
        "def weight (r):\n",
        "    if r < 0.4:\n",
        "        return 0\n",
        "    elif r>=0.4 and r<= 0.6:\n",
        "        return (5 * r - 2)\n",
        "    else:\n",
        "        return 1"
      ],
      "execution_count": null,
      "outputs": []
    },
    {
      "cell_type": "code",
      "metadata": {
        "colab_type": "code",
        "id": "qiUKpkdTYF45",
        "colab": {}
      },
      "source": [
        "def simple_voting(inputs, labels):\n",
        "    \n",
        "    # Computre predictions\n",
        "    prediction1 = model1(inputs)\n",
        "    prediction2 = model2(inputs)\n",
        "    prediction3 = model3(inputs)\n",
        "    \n",
        "    # Apply the average function on the predictions\n",
        "    fused = np.empty(prediction1.detach().numpy().shape)\n",
        "    for i in range(len(labels)):\n",
        "        fused [i] = fct (round(prediction1.detach().numpy()[i][0], 4), round(prediction2.detach().numpy()[i][0], 4), round(prediction3.detach().numpy()[i][0], 4))\n",
        "        \n",
        "    fused_label = (fused > 0.5)\n",
        "    \n",
        "    return (accuracy_score(labels, fused_label), fused)\n"
      ],
      "execution_count": null,
      "outputs": []
    },
    {
      "cell_type": "markdown",
      "metadata": {
        "colab_type": "text",
        "id": "aJTT69jLYIAC"
      },
      "source": [
        "Compute the correlation between different predictions"
      ]
    },
    {
      "cell_type": "code",
      "metadata": {
        "colab_type": "code",
        "id": "-yp7OpKglpg8",
        "colab": {
          "base_uri": "https://localhost:8080/",
          "height": 55
        },
        "outputId": "eda05d19-73bf-4094-cfa8-1e6915418ade"
      },
      "source": [
        "from scipy.stats import pearsonr\n",
        "\n",
        "prediction1 = model1(Xtest_PCA)\n",
        "prediction2 = model2(Xtest_PCA)\n",
        "prediction3 = model3(Xtest_PCA)\n",
        "A = []\n",
        "B = []\n",
        "C = []\n",
        "for i in range(len(prediction3.detach().numpy())):\n",
        "    A.append(round(prediction1.detach().numpy()[i][0], 4))\n",
        "    B.append(round(prediction2.detach().numpy()[i][0], 4))\n",
        "    C.append(round(prediction3.detach().numpy()[i][0], 4))\n",
        "\n",
        "print(\"The correlation between NN1 and NN2: \", pearsonr(A, B), \"NN2 and NN3: \", pearsonr(C, B), \"NN1 and NN3: \", pearsonr(A, C))"
      ],
      "execution_count": null,
      "outputs": [
        {
          "output_type": "stream",
          "text": [
            "The correlation between NN1 and NN2:  (0.47816483936747717, 0.0) NN2 and NN3:  (0.13553194773035193, 6.945814183634415e-93) NN1 and NN3:  (0.5495374298132389, 0.0)\n"
          ],
          "name": "stdout"
        }
      ]
    },
    {
      "cell_type": "markdown",
      "metadata": {
        "colab_type": "text",
        "id": "fZ7YE6MnYZbA"
      },
      "source": [
        "Now we will test out models"
      ]
    },
    {
      "cell_type": "code",
      "metadata": {
        "colab_type": "code",
        "id": "BwqMDDMYYbY0",
        "colab": {
          "base_uri": "https://localhost:8080/",
          "height": 35
        },
        "outputId": "4e7b1e02-ea0c-4c05-c17a-aa6b60432a31"
      },
      "source": [
        "#Print all accuracies\n",
        "\n",
        "test_acc = get_accuracy(model1, Xtest_PCA, Ytest)\n",
        "test_acc2 = get_accuracy(model2, Xtest_PCA, Ytest)\n",
        "test_acc3 = get_accuracy(model3, Xtest_PCA, Ytest)\n",
        "\n",
        "finale_accuracy, fused = simple_voting(Xtest_PCA, Ytest)\n",
        "print(\"Accuracy of NN1: %.4f. Accuracy of NN2: %.4f. Accuracy of NN3: %.4f. And final accuracy is: %.4f\" % (test_acc, test_acc2, test_acc3, finale_accuracy))"
      ],
      "execution_count": null,
      "outputs": [
        {
          "output_type": "stream",
          "text": [
            "Accuracy of NN1: 0.7332. Accuracy of NN2: 0.6735. Accuracy of NN3: 0.7148. And final accuracy is: 0.7362\n"
          ],
          "name": "stdout"
        }
      ]
    },
    {
      "cell_type": "code",
      "metadata": {
        "id": "aETs7C7rwE6h",
        "colab_type": "code",
        "colab": {
          "base_uri": "https://localhost:8080/",
          "height": 177
        },
        "outputId": "e071f007-24b3-434a-8e13-4c81c910e29f"
      },
      "source": [
        "# Print the classification report of the majority function\n",
        " fused_label = (fused > 0.5)\n",
        "print(classification_report(Ytest, fused_label, target_names=['Normal', 'Attack']))"
      ],
      "execution_count": null,
      "outputs": [
        {
          "output_type": "stream",
          "text": [
            "              precision    recall  f1-score   support\n",
            "\n",
            "      Normal       0.63      0.93      0.75      9711\n",
            "      Attack       0.92      0.59      0.72     12833\n",
            "\n",
            "    accuracy                           0.74     22544\n",
            "   macro avg       0.78      0.76      0.73     22544\n",
            "weighted avg       0.80      0.74      0.73     22544\n",
            "\n"
          ],
          "name": "stdout"
        }
      ]
    },
    {
      "cell_type": "code",
      "metadata": {
        "colab_type": "code",
        "id": "plIQXAP6unrv",
        "colab": {
          "base_uri": "https://localhost:8080/",
          "height": 35
        },
        "outputId": "ad0b4f77-6f9c-4c54-d4a0-583bc950c403"
      },
      "source": [
        "value = (prediction1 + prediction2 + prediction3)/3\n",
        "value = (value > 0.5)\n",
        "print(accuracy_score(Ytest, value))"
      ],
      "execution_count": null,
      "outputs": [
        {
          "output_type": "stream",
          "text": [
            "0.7523509581263307\n"
          ],
          "name": "stdout"
        }
      ]
    },
    {
      "cell_type": "code",
      "metadata": {
        "id": "KNUp58F6PI4O",
        "colab_type": "code",
        "colab": {
          "base_uri": "https://localhost:8080/",
          "height": 70
        },
        "outputId": "99a43b1e-6d05-42d2-c0cd-134babd19b59"
      },
      "source": [
        "from sklearn.metrics import precision_score\n",
        "from sklearn.metrics import f1_score\n",
        "from sklearn.metrics import recall_score\n",
        "\n",
        "print(\"Precision score: {}\".format(precision_score(Ytest, fused_label)))\n",
        "print(\"Precision score: {}\".format(f1_score(Ytest, fused_label)))\n",
        "print(\"Recall score: {}\".format(recall_score(Ytest, fused_label)))"
      ],
      "execution_count": null,
      "outputs": [
        {
          "output_type": "stream",
          "text": [
            "Precision score: 0.9194589984159863\n",
            "Precision score: 0.7173003802281369\n",
            "Recall score: 0.5880152731239773\n"
          ],
          "name": "stdout"
        }
      ]
    },
    {
      "cell_type": "markdown",
      "metadata": {
        "id": "qiEUeC_Ny7xL",
        "colab_type": "text"
      },
      "source": [
        "### Reputation module"
      ]
    },
    {
      "cell_type": "code",
      "metadata": {
        "id": "NWAE4y-FzAEQ",
        "colab_type": "code",
        "colab": {}
      },
      "source": [
        " from operator import add\n",
        " \n",
        " def review(inputs, labels):\n",
        "    Reliability = [0, 0, 0]\n",
        "\n",
        "    # Computre predictions\n",
        "    prediction1 = model1(inputs)\n",
        "    prediction2 = model2(inputs)\n",
        "    prediction3 = model3(inputs)\n",
        "\n",
        "    _, fused_predictions = simple_voting(inputs, labels)\n",
        "    for i in range(len(labels)):\n",
        "      if labels.detach().numpy()[i][0] != fused_predictions[i]:\n",
        "        votes = [round(prediction1.detach().numpy()[i][0], 4), round(prediction2.detach().numpy()[i][0], 4), round(prediction3.detach().numpy()[i][0], 4)]\n",
        "        votes.sort()\n",
        "        if votes[1]>=0.4 and votes[1]<= 0.6:\n",
        "          Reliability =  list(map(add, Reliability, give_reliability(votes, labels.detach().numpy()[i][0])))\n",
        "    return Reliability\n",
        "\n",
        "def give_reliability(L, labels):\n",
        "  R0 = 0\n",
        "  R1 = 0\n",
        "  R2 = 0\n",
        "  L= [(b>0.5) for b in L]\n",
        "\n",
        "  if L[0] == labels:\n",
        "    if (L[1] == labels and L[2] != labels) or (L[2] == labels and L[1] != labels):\n",
        "      R0 = 1\n",
        "    elif L[1] != labels and L[2] != labels:\n",
        "      R0 = 2\n",
        "  if L[1] == labels:\n",
        "    if (L[0] == labels and L[2] != labels)  or (L[2] == labels and L[0] != labels):\n",
        "      R1 = 1\n",
        "    elif L[0] != labels and L[2] != labels:\n",
        "      R1 = 2\n",
        "  if L[2] == labels:\n",
        "    if (L[0] == labels and L[1] != labels)  or (L[1] == labels and L[0] != labels):\n",
        "      R2 = 1\n",
        "    elif L[0] != labels and L[1] != labels:\n",
        "      R2 = 2\n",
        "  return (R0, R1, R2)"
      ],
      "execution_count": null,
      "outputs": []
    },
    {
      "cell_type": "code",
      "metadata": {
        "id": "FNw3HgKf_38S",
        "colab_type": "code",
        "colab": {}
      },
      "source": [
        "# Now we will test the model according the reputation\n",
        "\n",
        "def voting_reputation(inputs_train, labels_train, inputs, labels):\n",
        "  Reputations = review(inputs_train, labels_train)\n",
        "  _, fused_predictions = simple_voting(inputs, labels)\n",
        "\n",
        "  # Compute predictions\n",
        "  prediction1 = model1(inputs)\n",
        "  prediction2 = model2(inputs)\n",
        "  prediction3 = model3(inputs)\n",
        "\n",
        "  for i in range(len(labels)):\n",
        "    votes = [round(prediction1.detach().numpy()[i][0], 4), round(prediction2.detach().numpy()[i][0], 4), round(prediction3.detach().numpy()[i][0], 4)]\n",
        "    votes.sort()\n",
        "    if votes[1]>=0.4 and votes[1]<= 0.6:\n",
        "      fused_predictions[i][0] = votes[Reputations.index(max(Reputations))]\n",
        "\n",
        "  fused_predictions = (fused_predictions > 0.49 )\n",
        "  return (accuracy_score(labels, fused_predictions), fused_predictions)"
      ],
      "execution_count": null,
      "outputs": []
    },
    {
      "cell_type": "code",
      "metadata": {
        "id": "kRGq9gjV58uO",
        "colab_type": "code",
        "colab": {
          "base_uri": "https://localhost:8080/",
          "height": 55
        },
        "outputId": "eb6220da-f8ad-4a42-fbad-9334deda9712"
      },
      "source": [
        "new_fused, fused_reputation = voting_reputation(Xtrain_PCA, Ytrain, Xtest_PCA, Ytest)\n",
        "\n",
        "print(\"Accuracy of NN1: %.4f. Accuracy of NN2: %.4f. Accuracy of NN3: %.4f. And final accuracy is: %.4f. New reputation based accuracy %.4f\" \n",
        "      % (test_acc, test_acc2, test_acc3, finale_accuracy, new_fused))"
      ],
      "execution_count": null,
      "outputs": [
        {
          "output_type": "stream",
          "text": [
            "Accuracy of NN1: 0.7332. Accuracy of NN2: 0.6735. Accuracy of NN3: 0.7148. And final accuracy is: 0.7362. New reputation based accuracy 0.7654\n"
          ],
          "name": "stdout"
        }
      ]
    },
    {
      "cell_type": "code",
      "metadata": {
        "id": "aBCzANIWKOKi",
        "colab_type": "code",
        "colab": {
          "base_uri": "https://localhost:8080/",
          "height": 177
        },
        "outputId": "6fc80fdf-62be-4a29-fd2b-690ecabbbeb8"
      },
      "source": [
        "# Print the classification report of the majority function with liability \n",
        "print(classification_report(Ytest, fused_reputation, target_names=['Normal', 'Attack']))"
      ],
      "execution_count": null,
      "outputs": [
        {
          "output_type": "stream",
          "text": [
            "              precision    recall  f1-score   support\n",
            "\n",
            "      Normal       0.67      0.90      0.77      9711\n",
            "      Attack       0.90      0.67      0.76     12833\n",
            "\n",
            "    accuracy                           0.77     22544\n",
            "   macro avg       0.78      0.78      0.77     22544\n",
            "weighted avg       0.80      0.77      0.77     22544\n",
            "\n"
          ],
          "name": "stdout"
        }
      ]
    },
    {
      "cell_type": "markdown",
      "metadata": {
        "id": "6IQbxsHOqbmy",
        "colab_type": "text"
      },
      "source": [
        "## Hard Voting"
      ]
    },
    {
      "cell_type": "code",
      "metadata": {
        "id": "5rQj9Wpvqbmz",
        "colab_type": "code",
        "colab": {}
      },
      "source": [
        "def majority_vote(inputs, labels):\n",
        "    \n",
        "    # Computre predictions\n",
        "    prediction1 = predict(model1, inputs)\n",
        "    prediction2 = predict(model2, inputs)\n",
        "    prediction3 = predict(model3, inputs)\n",
        "    voter = np.empty(prediction1.detach().numpy().shape)\n",
        "    \n",
        "    for i in range(len(labels)):\n",
        "      voter [i] = counter (int(prediction1.detach().numpy()[i][0]), int(prediction2.detach().numpy()[i][0]), \n",
        "                           int(prediction3.detach().numpy()[i][0]))\n",
        "        \n",
        "    return (accuracy_score(labels, voter), voter)\n",
        "\n",
        "\n",
        "\n",
        "def counter (a, b, c):\n",
        "  tmp = (a + b + c)\n",
        "  if tmp == 3 or tmp == 2:\n",
        "    return True\n",
        "  else: \n",
        "    return False\n"
      ],
      "execution_count": null,
      "outputs": []
    },
    {
      "cell_type": "code",
      "metadata": {
        "id": "vWhlNxdGqbm2",
        "colab_type": "code",
        "colab": {
          "base_uri": "https://localhost:8080/",
          "height": 35
        },
        "outputId": "acb1fb71-c6ec-4c02-d5a5-6e1fff735a49"
      },
      "source": [
        "score_hard, voter_hard = majority_vote(Xtest_PCA, Ytest) \n",
        "print(\"Accuracy of NN1: %.4f. Accuracy of NN2: %.4f. Accuracy of NN3: %.4f. And final accuracy is: %.4f\" % (test_acc, test_acc2, test_acc3, score_hard))"
      ],
      "execution_count": null,
      "outputs": [
        {
          "output_type": "stream",
          "text": [
            "Accuracy of NN1: 0.7332. Accuracy of NN2: 0.6735. Accuracy of NN3: 0.7148. And final accuracy is: 0.7316\n"
          ],
          "name": "stdout"
        }
      ]
    },
    {
      "cell_type": "code",
      "metadata": {
        "id": "Sb6KWBPPKaSh",
        "colab_type": "code",
        "colab": {
          "base_uri": "https://localhost:8080/",
          "height": 177
        },
        "outputId": "3a01df2f-a7ed-4eee-b809-9f8dae46c7b0"
      },
      "source": [
        "# Print the classification report of the hard voting approach \n",
        "print(classification_report(Ytest, voter_hard, target_names=['Normal', 'Attack']))"
      ],
      "execution_count": null,
      "outputs": [
        {
          "output_type": "stream",
          "text": [
            "              precision    recall  f1-score   support\n",
            "\n",
            "      Normal       0.63      0.93      0.75      9711\n",
            "      Attack       0.92      0.58      0.71     12833\n",
            "\n",
            "    accuracy                           0.73     22544\n",
            "   macro avg       0.77      0.76      0.73     22544\n",
            "weighted avg       0.79      0.73      0.73     22544\n",
            "\n"
          ],
          "name": "stdout"
        }
      ]
    },
    {
      "cell_type": "markdown",
      "metadata": {
        "id": "IG6BI89CVkBg",
        "colab_type": "text"
      },
      "source": [
        "## Weighted Average"
      ]
    },
    {
      "cell_type": "code",
      "metadata": {
        "id": "FDz_1XbeaVQ_",
        "colab_type": "code",
        "colab": {}
      },
      "source": [
        "def weighted(train_inputs, train_labels, test_inputs, test_labels):\n",
        "  model1.eval()\n",
        "  model2.eval()\n",
        "  model3.eval()\n",
        "\n",
        "  tain_prediction1 = model1.forward(train_inputs)\n",
        "  tain_prediction2 = model2.forward(train_inputs)\n",
        "  tain_prediction3 = model3.forward(train_inputs)\n",
        "\n",
        "  train_data = np.concatenate((tain_prediction1.detach().numpy(), tain_prediction2.detach().numpy(), tain_prediction3.detach().numpy()), axis=1)\n",
        "  \n",
        "  test_prediction1 = model1.forward(test_inputs)\n",
        "  test_prediction2 = model2.forward(test_inputs)\n",
        "  test_prediction3 = model3.forward(test_inputs)\n",
        "\n",
        "  test_data = np.concatenate((test_prediction1.detach().numpy(), test_prediction2.detach().numpy(), test_prediction3.detach().numpy()), axis=1)\n",
        "  test_data = (test_data > 0.5)\n",
        "  \n",
        "  batch_s = 128\n",
        "  \n",
        "  Xtrain_combined = torch.from_numpy(train_data).float()\n",
        "\n",
        "  train_ds = TensorDataset(Xtrain_combined, train_labels)\n",
        "  train_dl = DataLoader(train_ds, batch_size=batch_s, shuffle=True)\n",
        "\n",
        "  output_size = 1\n",
        "  learning_rate = 0.001\n",
        "\n",
        "  # Build a feed-forward network\n",
        "  sofmtax_layer = torch.nn.Sequential(torch.nn.Linear(3, output_size), torch.nn.Sigmoid())\n",
        "\n",
        "  # Loss and optimizer\n",
        "  sofmtax_criterion = torch.nn.MSELoss()\n",
        "  sofmtax_optimizer = torch.optim.Adam(sofmtax_layer.parameters(), lr=learning_rate)\n",
        "\n",
        "  # main training loop\n",
        "  print(\"Training..\")\n",
        "  for i in range(num_epochs): # Number of epochs\n",
        "    cost = 0\n",
        "    for xb, yb in train_dl: \n",
        "      # Forward pass\n",
        "      outputs = sofmtax_layer(xb)\n",
        "      loss = sofmtax_criterion(outputs, yb)\n",
        "      \n",
        "      # Backward and optimize\n",
        "      sofmtax_optimizer.zero_grad()\n",
        "      loss.backward()\n",
        "      sofmtax_optimizer.step() \n",
        "  print(\"Testing..\")\n",
        "  \n",
        "  Xtest_combined = torch.from_numpy(test_data).float()\n",
        "\n",
        "  final_prediction = sofmtax_layer(Xtest_combined)\n",
        "  final_prediction = (final_prediction > 0.5)\n",
        "  report = classification_report(test_labels, final_prediction.detach().numpy(), target_names=['Normal', 'Attack'])\n",
        "  print(\"Classification report of the weighted layer: \")\n",
        "  return report "
      ],
      "execution_count": null,
      "outputs": []
    },
    {
      "cell_type": "code",
      "metadata": {
        "id": "VEpHIg6QgkwW",
        "colab_type": "code",
        "colab": {
          "base_uri": "https://localhost:8080/",
          "height": 230
        },
        "outputId": "8e74b9b1-13d1-4f23-9220-ea10ebc2aaf4"
      },
      "source": [
        "print(weighted(Xtrain_PCA, Ytrain, Xtest_PCA, Ytest))"
      ],
      "execution_count": null,
      "outputs": [
        {
          "output_type": "stream",
          "text": [
            "Training..\n",
            "Testing..\n",
            "Classification report of the weighted layer: \n",
            "              precision    recall  f1-score   support\n",
            "\n",
            "      Normal       0.63      0.92      0.75      9711\n",
            "      Attack       0.91      0.59      0.72     12833\n",
            "\n",
            "    accuracy                           0.73     22544\n",
            "   macro avg       0.77      0.76      0.73     22544\n",
            "weighted avg       0.79      0.73      0.73     22544\n",
            "\n"
          ],
          "name": "stdout"
        }
      ]
    },
    {
      "cell_type": "markdown",
      "metadata": {
        "id": "E1Mwk7F3qbm7",
        "colab_type": "text"
      },
      "source": [
        "## MoE Layer"
      ]
    },
    {
      "cell_type": "code",
      "metadata": {
        "id": "kV9dxDLIqbm8",
        "colab_type": "code",
        "colab": {}
      },
      "source": [
        "import torch\n",
        "import torch.nn as nn\n",
        "from torch.optim import Adam\n",
        "from torch.distributions.normal import Normal\n",
        "import numpy as np"
      ],
      "execution_count": null,
      "outputs": []
    },
    {
      "cell_type": "code",
      "metadata": {
        "id": "YD9NYbUsqbnB",
        "colab_type": "code",
        "colab": {}
      },
      "source": [
        "class SparseDispatcher(object):\n",
        "    \"\"\"Helper for implementing a mixture of experts.\n",
        "    The purpose of this class is to create input minibatches for the\n",
        "    experts and to combine the results of the experts to form a unified\n",
        "    output tensor.\n",
        "    There are two functions:\n",
        "    dispatch - take an input Tensor and create input Tensors for each expert.\n",
        "    combine - take output Tensors from each expert and form a combined output\n",
        "      Tensor.  Outputs from different experts for the same batch element are\n",
        "      summed together, weighted by the provided \"gates\".\n",
        "    The class is initialized with a \"gates\" Tensor, which specifies which\n",
        "    batch elements go to which experts, and the weights to use when combining\n",
        "    the outputs.  Batch element b is sent to expert e iff gates[b, e] != 0.\n",
        "    The inputs and outputs are all two-dimensional [batch, depth].\n",
        "    Caller is responsible for collapsing additional dimensions prior to\n",
        "    calling this class and reshaping the output to the original shape.\n",
        "    See common_layers.reshape_like().\n",
        "    Example use:\n",
        "    gates: a float32 `Tensor` with shape `[batch_size, num_experts]`\n",
        "    inputs: a float32 `Tensor` with shape `[batch_size, input_size]`\n",
        "    experts: a list of length `num_experts` containing sub-networks.\n",
        "    dispatcher = SparseDispatcher(num_experts, gates)\n",
        "    expert_inputs = dispatcher.dispatch(inputs)\n",
        "    expert_outputs = [experts[i](expert_inputs[i]) for i in range(num_experts)]\n",
        "    outputs = dispatcher.combine(expert_outputs)\n",
        "    The preceding code sets the output for a particular example b to:\n",
        "    output[b] = Sum_i(gates[b, i] * experts[i](inputs[b]))\n",
        "    This class takes advantage of sparsity in the gate matrix by including in the\n",
        "    `Tensor`s for expert i only the batch elements for which `gates[b, i] > 0`.\n",
        "    \"\"\"\n",
        "\n",
        "    def __init__(self, num_experts, gates):\n",
        "        \"\"\"Create a SparseDispatcher.\"\"\"\n",
        "\n",
        "        self._gates = gates\n",
        "        self._num_experts = num_experts\n",
        "        # sort experts\n",
        "        sorted_experts, index_sorted_experts = torch.nonzero(gates).sort(0)\n",
        "        # drop indices\n",
        "        _, self._expert_index = sorted_experts.split(1, dim=1)\n",
        "        # get according batch index for each expert\n",
        "        self._batch_index = sorted_experts[index_sorted_experts[:, 1],0]\n",
        "        # calculate num samples that each expert gets\n",
        "        self._part_sizes = list((gates > 0).sum(0).numpy())\n",
        "        # expand gates to match with self._batch_index\n",
        "        gates_exp = gates[self._batch_index.flatten()]\n",
        "        self._nonzero_gates = torch.gather(gates_exp, 1, self._expert_index)\n",
        "\n",
        "    def dispatch(self, inp):\n",
        "        \"\"\"Create one input Tensor for each expert.\n",
        "        The `Tensor` for a expert `i` contains the slices of `inp` corresponding\n",
        "        to the batch elements `b` where `gates[b, i] > 0`.\n",
        "        Args:\n",
        "          inp: a `Tensor` of shape \"[batch_size, <extra_input_dims>]`\n",
        "        Returns:\n",
        "          a list of `num_experts` `Tensor`s with shapes\n",
        "            `[expert_batch_size_i, <extra_input_dims>]`.\n",
        "        \"\"\"\n",
        "\n",
        "        # assigns samples to experts whose gate is nonzero\n",
        "\n",
        "        # expand according to batch index so we can just split by _part_sizes\n",
        "        inp_exp = inp[self._batch_index].squeeze(1)\n",
        "        return torch.split(inp_exp, self._part_sizes, dim=0)\n",
        "\n",
        "\n",
        "    def combine(self, expert_out, multiply_by_gates=True):\n",
        "        \"\"\"Sum together the expert output, weighted by the gates.\n",
        "        The slice corresponding to a particular batch element `b` is computed\n",
        "        as the sum over all experts `i` of the expert output, weighted by the\n",
        "        corresponding gate values.  If `multiply_by_gates` is set to False, the\n",
        "        gate values are ignored.\n",
        "        Args:\n",
        "          expert_out: a list of `num_experts` `Tensor`s, each with shape\n",
        "            `[expert_batch_size_i, <extra_output_dims>]`.\n",
        "          multiply_by_gates: a boolean\n",
        "        Returns:\n",
        "          a `Tensor` with shape `[batch_size, <extra_output_dims>]`.\n",
        "        \"\"\"\n",
        "        # apply exp to expert outputs, so we are not longer in log space\n",
        "        stitched = torch.cat(expert_out, 0).exp()\n",
        "\n",
        "        if multiply_by_gates:\n",
        "            stitched = stitched.mul(self._nonzero_gates)\n",
        "        zeros = torch.zeros(self._gates.size(0), expert_out[-1].size(1), requires_grad=True)\n",
        "        # combine samples that have been processed by the same k experts\n",
        "        combined = zeros.index_add(0, self._batch_index, stitched.float())\n",
        "        # add eps to all zero values in order to avoid nans when going back to log space\n",
        "        combined[combined == 0] = np.finfo(float).eps\n",
        "        # back to log space\n",
        "        return combined.log()\n",
        "\n",
        "\n",
        "    def expert_to_gates(self):\n",
        "        \"\"\"Gate values corresponding to the examples in the per-expert `Tensor`s.\n",
        "        Returns:\n",
        "          a list of `num_experts` one-dimensional `Tensor`s with type `tf.float32`\n",
        "              and shapes `[expert_batch_size_i]`\n",
        "        \"\"\"\n",
        "        # split nonzero gates for each expert\n",
        "        return torch.split(self._nonzero_gates, self._part_sizes, dim=0)\n",
        "\n",
        "\n",
        "\n",
        "\n",
        "class MoE(nn.Module):\n",
        "\n",
        "    \"\"\"Call a Sparsely gated mixture of experts layer with 1-layer Feed-Forward networks as experts.\n",
        "    Args:\n",
        "    input_size: integer - size of the input\n",
        "    output_size: integer - size of the input\n",
        "    num_experts: an integer - number of experts\n",
        "    hidden_size: an integer - hidden size of the experts\n",
        "    noisy_gating: a boolean\n",
        "    k: an integer - how many experts to use for each batch element\n",
        "    \"\"\"\n",
        "\n",
        "    def __init__(self, input_size, output_size, num_experts, hidden_size, noisy_gating=True, k=4):\n",
        "        super(MoE, self).__init__()\n",
        "        self.noisy_gating = noisy_gating\n",
        "        self.num_experts = num_experts\n",
        "        self.output_size = output_size\n",
        "        self.input_size = input_size\n",
        "        self.hidden_size = hidden_size\n",
        "        self.k = k\n",
        "        # instantiate experts\n",
        "        self.experts = nn.ModuleList([model1, model2, model3])\n",
        "        # Keep the pre-trained state\n",
        "        #for m in [model1, model2, model3]:\n",
        "         # for p in m.parameters():\n",
        "          #  p.requires_grad=False\n",
        "        self.w_gate = nn.Parameter(torch.zeros(input_size, num_experts), requires_grad=True)\n",
        "        self.w_noise = nn.Parameter(torch.zeros(input_size, num_experts), requires_grad=True)\n",
        "\n",
        "        self.softplus = nn.Softplus()\n",
        "        self.softmax = nn.Softmax(1)\n",
        "        self.normal = Normal(torch.tensor([0.0]), torch.tensor([1.0]))\n",
        "\n",
        "        assert(self.k <= self.num_experts)\n",
        "\n",
        "    def cv_squared(self, x):\n",
        "        \"\"\"The squared coefficient of variation of a sample.\n",
        "        Useful as a loss to encourage a positive distribution to be more uniform.\n",
        "        Epsilons added for numerical stability.\n",
        "        Returns 0 for an empty Tensor.\n",
        "        Args:\n",
        "        x: a `Tensor`.\n",
        "        Returns:\n",
        "        a `Scalar`.\n",
        "        \"\"\"\n",
        "        eps = 1e-10\n",
        "        # if only num_experts = 1\n",
        "        if x.shape[0] == 1:\n",
        "            return torch.Tensor([0])\n",
        "        return x.float().var() / (x.float().mean() + eps)\n",
        "\n",
        "\n",
        "    def _gates_to_load(self, gates):\n",
        "        \"\"\"Compute the true load per expert, given the gates.\n",
        "        The load is the number of examples for which the corresponding gate is >0.\n",
        "        Args:\n",
        "        gates: a `Tensor` of shape [batch_size, n]\n",
        "        Returns:\n",
        "        a float32 `Tensor` of shape [n]\n",
        "        \"\"\"\n",
        "        return (gates > 0).sum(0)\n",
        "\n",
        "\n",
        "\n",
        "\n",
        "    def _prob_in_top_k(self, clean_values, noisy_values, noise_stddev, noisy_top_values):\n",
        "        \"\"\"Helper function to NoisyTopKGating.\n",
        "        Computes the probability that value is in top k, given different random noise.\n",
        "        This gives us a way of backpropagating from a loss that balances the number\n",
        "        of times each expert is in the top k experts per example.\n",
        "        In the case of no noise, pass in None for noise_stddev, and the result will\n",
        "        not be differentiable.\n",
        "        Args:\n",
        "        clean_values: a `Tensor` of shape [batch, n].\n",
        "        noisy_values: a `Tensor` of shape [batch, n].  Equal to clean values plus\n",
        "          normally distributed noise with standard deviation noise_stddev.\n",
        "        noise_stddev: a `Tensor` of shape [batch, n], or None\n",
        "        noisy_top_values: a `Tensor` of shape [batch, m].\n",
        "           \"values\" Output of tf.top_k(noisy_top_values, m).  m >= k+1\n",
        "        Returns:\n",
        "        a `Tensor` of shape [batch, n].\n",
        "        \"\"\"\n",
        "\n",
        "        batch = clean_values.size(0)\n",
        "        m = noisy_top_values.size(1)\n",
        "        top_values_flat = noisy_top_values.flatten()\n",
        "        threshold_positions_if_in = torch.arange(batch) * m + self.k\n",
        "        threshold_if_in = torch.unsqueeze(torch.gather(top_values_flat, 0, threshold_positions_if_in), 1)\n",
        "        is_in = torch.gt(noisy_values, threshold_if_in)\n",
        "        threshold_positions_if_out = threshold_positions_if_in - 1\n",
        "        threshold_if_out = torch.unsqueeze(torch.gather(top_values_flat,0 , threshold_positions_if_out), 1)\n",
        "        # is each value currently in the top k.\n",
        "        prob_if_in = self.normal.cdf((clean_values - threshold_if_in)/noise_stddev)\n",
        "        prob_if_out = self.normal.cdf((clean_values - threshold_if_out)/noise_stddev)\n",
        "        prob = torch.where(is_in, prob_if_in, prob_if_out)\n",
        "        return prob\n",
        "\n",
        "\n",
        "    def noisy_top_k_gating(self, x, train, noise_epsilon=1e-2):\n",
        "        \"\"\"Noisy top-k gating.\n",
        "          See paper: https://arxiv.org/abs/1701.06538.\n",
        "          Args:\n",
        "            x: input Tensor with shape [batch_size, input_size]\n",
        "            train: a boolean - we only add noise at training time.\n",
        "            noise_epsilon: a float\n",
        "          Returns:\n",
        "            gates: a Tensor with shape [batch_size, num_experts]\n",
        "            load: a Tensor with shape [num_experts]\n",
        "        \"\"\"\n",
        "        clean_logits = x @ self.w_gate\n",
        "        if self.noisy_gating:\n",
        "            raw_noise_stddev = x @ self.w_noise\n",
        "            noise_stddev = ((self.softplus(raw_noise_stddev) + noise_epsilon) * train)\n",
        "            noisy_logits = clean_logits + ( torch.randn_like(clean_logits) * noise_stddev)\n",
        "            logits = noisy_logits\n",
        "        else:\n",
        "            logits = clean_logits\n",
        "\n",
        "        # calculate topk + 1 that will be needed for the noisy gates\n",
        "        top_logits, top_indices = logits.topk(min(self.k + 1, self.num_experts), dim=1)\n",
        "        top_k_logits = top_logits[:, :self.k]\n",
        "        top_k_indices = top_indices[:, :self.k]\n",
        "        top_k_gates = self.softmax(top_k_logits)\n",
        "\n",
        "        zeros = torch.zeros_like(logits, requires_grad=True)\n",
        "        gates = zeros.scatter(1, top_k_indices, top_k_gates)\n",
        "\n",
        "        if self.noisy_gating and self.k < self.num_experts:\n",
        "            load = (self._prob_in_top_k(clean_logits, noisy_logits, noise_stddev, top_logits)).sum(0)\n",
        "        else:\n",
        "            load = self._gates_to_load(gates)\n",
        "        return gates, load\n",
        "\n",
        "\n",
        "\n",
        "    def forward(self, x, train=True, loss_coef=1e-2):\n",
        "        \"\"\"Args:\n",
        "        x: tensor shape [batch_size, input_size]\n",
        "        train: a boolean scalar.\n",
        "        loss_coef: a scalar - multiplier on load-balancing losses\n",
        "\n",
        "        Returns:\n",
        "        y: a tensor with shape [batch_size, output_size].\n",
        "        extra_training_loss: a scalar.  This should be added into the overall\n",
        "        training loss of the model.  The backpropagation of this loss\n",
        "        encourages all experts to be approximately equally used across a batch.\n",
        "        \"\"\"\n",
        "        gates, load = self.noisy_top_k_gating(x, train)\n",
        "        # calculate importance loss\n",
        "        importance = gates.sum(0)\n",
        "        #\n",
        "        loss = self.cv_squared(importance) + self.cv_squared(load)\n",
        "        loss *= loss_coef\n",
        "\n",
        "        dispatcher = SparseDispatcher(self.num_experts, gates)\n",
        "        expert_inputs = dispatcher.dispatch(x)\n",
        "        gates = dispatcher.expert_to_gates()\n",
        "        ## Try to use train and eval modes\n",
        "        if train:\n",
        "            for i in range(self.num_experts):\n",
        "                self.experts[i].train()\n",
        "                expert_outputs = [self.experts[i](expert_inputs[i]) for i in range(self.num_experts)]\n",
        "        else:\n",
        "            for i in range(self.num_experts):\n",
        "                self.experts[i].train()\n",
        "                expert_outputs = [self.experts[i](expert_inputs[i]) for i in range(self.num_experts)]\n",
        "        y = dispatcher.combine(expert_outputs)\n",
        "        return y, loss\n"
      ],
      "execution_count": null,
      "outputs": []
    },
    {
      "cell_type": "code",
      "metadata": {
        "id": "SQwniuBjqbnG",
        "colab_type": "code",
        "colab": {}
      },
      "source": [
        "def MoE_train(x,y, model, loss_fn, optim):\n",
        "    # model returns the prediction and the loss that encourages all experts to have equal importance and load\n",
        "    y_hat, aux_loss = model(x.float())\n",
        "    # calculate prediction loss\n",
        "    loss = loss_fn(y_hat, y)\n",
        "    # combine losses\n",
        "    total_loss = loss + aux_loss\n",
        "    optim.zero_grad()\n",
        "    total_loss.backward()\n",
        "    optim.step()\n",
        "\n",
        "    print(\"Training Results - loss: {:.2f}, aux_loss: {:.3f}\".format(loss.item(), aux_loss.item()))\n",
        "    return model\n",
        "\n",
        "def eval(x, y, model, loss_fn):\n",
        "    model.eval()\n",
        "    # model returns the prediction and the loss that encourages all experts to have equal importance and load\n",
        "    y_hat, aux_loss = model(x.float(), train=False)\n",
        "    loss = loss_fn(y_hat, y)\n",
        "    total_loss = loss + aux_loss\n",
        "    print(\"Evaluation Results - loss: {:.2f}, aux_loss: {:.3f}\".format(loss.item(), aux_loss.item()))\n",
        "    y_hat = (y_hat > 0.5)\n",
        "    accuracy_score(y, y_hat)\n",
        "    print(\"accuracy is \", accuracy_score(y, y_hat))\n",
        "    print(\"Report: \")\n",
        "    print(classification_report(y, y_hat, target_names=['Normal', 'Attack']))\n"
      ],
      "execution_count": null,
      "outputs": []
    },
    {
      "cell_type": "code",
      "metadata": {
        "id": "uEgHqkAbqbnJ",
        "colab_type": "code",
        "colab": {
          "base_uri": "https://localhost:8080/",
          "height": 248
        },
        "outputId": "f677fd8a-d177-411a-9553-b4b3fbb9a1d6"
      },
      "source": [
        "\n",
        "# convert the data arrays into torch tensors\n",
        "Xtrain_PCA = torch.from_numpy(X_train_PCA).float()\n",
        "Ytrain = torch.from_numpy(Y_train2.to_numpy()).float()\n",
        "\n",
        "Xval_PCA = torch.from_numpy(X_val_PCA).float()\n",
        "Yval = torch.from_numpy(Y_val2.to_numpy()).float()\n",
        "\n",
        "Xtest_PCA = torch.from_numpy(X_test_PCA).float()\n",
        "Ytest = torch.from_numpy(Y_test2.to_numpy()).float()\n",
        "\n",
        "# arguments\n",
        "num_classes = 1\n",
        "num_experts = 3\n",
        "hidden_size = 64\n",
        "k = 2\n",
        "\n",
        "# instantiate the MoE layer\n",
        "model = MoE(input_size, num_classes, num_experts,hidden_size, k=k, noisy_gating=True)\n",
        "\n",
        "loss_fn = nn.BCEWithLogitsLoss()\n",
        "optim = Adam(model.parameters())\n",
        "\n",
        "num_epochs = 15\n",
        "# train\n",
        "model = MoE_train(Xtrain_PCA, Ytrain, model, loss_fn, optim)\n",
        "# evaluate\n",
        "eval(Xtest_PCA, Ytest, model, loss_fn)\n",
        "\n",
        "\n",
        "\n"
      ],
      "execution_count": null,
      "outputs": [
        {
          "output_type": "stream",
          "text": [
            "Training Results - loss: 0.58, aux_loss: 0.003\n",
            "Evaluation Results - loss: 0.58, aux_loss: 14.475\n",
            "accuracy is  0.783667494677076\n",
            "Report: \n",
            "              precision    recall  f1-score   support\n",
            "\n",
            "      Normal       0.69      0.90      0.78      9711\n",
            "      Attack       0.90      0.69      0.79     12833\n",
            "\n",
            "    accuracy                           0.78     22544\n",
            "   macro avg       0.80      0.80      0.78     22544\n",
            "weighted avg       0.81      0.78      0.78     22544\n",
            "\n"
          ],
          "name": "stdout"
        }
      ]
    },
    {
      "cell_type": "code",
      "metadata": {
        "id": "2WfqcclxTvWp",
        "colab_type": "code",
        "colab": {}
      },
      "source": [
        ""
      ],
      "execution_count": null,
      "outputs": []
    }
  ]
}
